{
 "cells": [
  {
   "cell_type": "code",
   "execution_count": 1,
   "id": "fa560bfd",
   "metadata": {},
   "outputs": [
    {
     "name": "stdout",
     "output_type": "stream",
     "text": [
      "{'tickers': {'btc_idr': {'high': '322500000', 'low': '285369000', 'vol_btc': '131.60594872', 'vol_idr': '39467084603', 'last': '291591000', 'buy': '291403000', 'sell': '291591000', 'server_time': 1667968274, 'name': 'Bitcoin'}, 'ten_idr': {'high': '617', 'low': '366', 'vol_ten': '14240599.54076151', 'vol_idr': '6794847212', 'last': '367', 'buy': '368', 'sell': '369', 'server_time': 1667968274, 'name': 'Tokenomy'}, '1inch_idr': {'high': '9681', 'low': '8700', 'vol_1inch': '18985.78246914', 'vol_idr': '170943034', 'last': '8812', 'buy': '8749', 'sell': '8767', 'server_time': 1667968274, 'name': '1Inch'}, 'aave_idr': {'high': '1368000', 'low': '1076740', 'vol_aave': '338.05722133', 'vol_idr': '413972117', 'last': '1129275', 'buy': '1125608', 'sell': '1126053', 'server_time': 1667968274, 'name': 'Aave'}, 'abbc_idr': {'high': '3000', 'low': '2702', 'vol_abbc': '1457971.67370582', 'vol_idr': '4169033027', 'last': '2818', 'buy': '2818', 'sell': '2819', 'server_time': 1667968274, 'name': 'ABBC Coin'}, 'abyss_idr': {'high': '257', 'low': '220', 'vol_abyss': '288968.21339049', 'vol_idr': '70096679', 'last': '230', 'buy': '225', 'sell': '230', 'server_time': 1667968274, 'name': 'Abyss'}, 'act_idr': {'high': '34', 'low': '28', 'vol_act': '14185199.64748062', 'vol_idr': '444829834', 'last': '29', 'buy': '29', 'sell': '30', 'server_time': 1667968274, 'name': 'Achain'}, 'ada_idr': {'high': '6495', 'low': '5622', 'vol_ada': '927225.54484661', 'vol_idr': '5519936405', 'last': '5789', 'buy': '5799', 'sell': '5800', 'server_time': 1667968274, 'name': 'Cardano'}, 'adp_idr': {'high': '130', 'low': '115', 'vol_adp': '5732386.86664477', 'vol_idr': '717175868', 'last': '127', 'buy': '123', 'sell': '127', 'server_time': 1667968274, 'name': 'Adappter Token'}, 'aioz_idr': {'high': '782', 'low': '660', 'vol_aioz': '183424.37866309', 'vol_idr': '132841959', 'last': '685', 'buy': '685', 'sell': '696', 'server_time': 1667968274, 'name': 'AIOZ Network'}, 'alice_idr': {'high': '26128', 'low': '21500', 'vol_alice': '7266.73346379', 'vol_idr': '172328508', 'last': '21839', 'buy': '21859', 'sell': '21945', 'server_time': 1667968274, 'name': 'My Neighbor Alice'}, 'algo_idr': {'high': '6510', 'low': '5000', 'vol_algo': '433793.49424399', 'vol_idr': '2460381998', 'last': '5209', 'buy': '5179', 'sell': '5195', 'server_time': 1667968274, 'name': 'Algorand'}, 'alpaca_idr': {'high': '4591', 'low': '4117', 'vol_alpaca': '3678.22121686', 'vol_idr': '15679766', 'last': '4151', 'buy': '4151', 'sell': '4374', 'server_time': 1667968274, 'name': 'Alpaca Finance'}, 'alt_idr': {'high': '5120', 'low': '3750', 'vol_alt': '386766.28495729', 'vol_idr': '1650959310', 'last': '3752', 'buy': '3752', 'sell': '3774', 'server_time': 1667968274, 'name': 'Alitas'}, 'amp_idr': {'high': '82', 'low': '66', 'vol_amp': '1104520.16018504', 'vol_idr': '80148219', 'last': '68', 'buy': '66', 'sell': '68', 'server_time': 1667968274, 'name': 'Amp'}, 'ankr_idr': {'high': '450', 'low': '350', 'vol_ankr': '252932.56220169', 'vol_idr': '103759060', 'last': '412', 'buy': '371', 'sell': '412', 'server_time': 1667968274, 'name': 'Ankr'}, 'aoa_idr': {'high': '4', 'low': '3', 'vol_aoa': '29250340.39696311', 'vol_idr': '102441927', 'last': '4', 'buy': '3', 'sell': '4', 'server_time': 1667968274, 'name': 'Aurora'}, 'ape_idr': {'high': '70805', 'low': '51500', 'vol_ape': '8504.73635178', 'vol_idr': '517680197', 'last': '60145', 'buy': '60068', 'sell': '60307', 'server_time': 1667968274, 'name': 'ApeCoin'}, 'asixv2_idr': {'high': '5', 'low': '3', 'vol_asixv2': '37425693.12733369', 'vol_idr': '149512148', 'last': '4', 'buy': '3', 'sell': '4', 'server_time': 1667968274, 'name': 'ASIX Token'}, 'ata_idr': {'high': '2600', 'low': '2051', 'vol_ata': '76655.78065135', 'vol_idr': '169071809', 'last': '2051', 'buy': '2051', 'sell': '2186', 'server_time': 1667968274, 'name': 'Automata Network'}, 'atom_idr': {'high': '219034', 'low': '187302', 'vol_atom': '3327.89371022', 'vol_idr': '664306236', 'last': '189601', 'buy': '189383', 'sell': '189719', 'server_time': 1667968274, 'name': 'Cosmos'}, 'att_idr': {'high': '56', 'low': '45', 'vol_att': '5851154.85979859', 'vol_idr': '291147618', 'last': '45', 'buy': '45', 'sell': '47', 'server_time': 1667968274, 'name': 'Attila'}, 'audio_idr': {'high': '3578', 'low': '2694', 'vol_audio': '30316.76489552', 'vol_idr': '92621533', 'last': '3176', 'buy': '2696', 'sell': '2951', 'server_time': 1667968274, 'name': 'Audius'}, 'avax_idr': {'high': '280780', 'low': '243354', 'vol_avax': '1025.62735227', 'vol_idr': '265937371', 'last': '246723', 'buy': '244427', 'sell': '245481', 'server_time': 1667968274, 'name': 'Avalanche'}, 'axs_idr': {'high': '151000', 'low': '107966', 'vol_axs': '1436.51179525', 'vol_idr': '188218414', 'last': '121320', 'buy': '121654', 'sell': '122281', 'server_time': 1667968274, 'name': 'Axie Infinity'}, 'bake_idr': {'high': '3818', 'low': '3150', 'vol_bake': '16511.42013924', 'vol_idr': '55993171', 'last': '3339', 'buy': '3138', 'sell': '3349', 'server_time': 1667968274, 'name': 'BakeryToken'}, 'bal_idr': {'high': '109900', 'low': '88677', 'vol_bal': '1673.78591605', 'vol_idr': '172340023', 'last': '101709', 'buy': '85090', 'sell': '92000', 'server_time': 1667968274, 'name': 'Balancer'}, 'bat_idr': {'high': '5085', 'low': '4282', 'vol_bat': '8971.46519878', 'vol_idr': '40927659', 'last': '4505', 'buy': '4442', 'sell': '4506', 'server_time': 1667968274, 'name': 'Basic Attention Token'}, 'bcd_idr': {'high': '2500', 'low': '2400', 'vol_bcd': '56152.25222834', 'vol_idr': '136371874', 'last': '2400', 'buy': '2400', 'sell': '2500', 'server_time': 1667968274, 'name': 'Bitcoin Diamond'}, 'bch_idr': {'high': '1851000', 'low': '1656000', 'vol_bch': '108.79400515', 'vol_idr': '184387225', 'last': '1830000', 'buy': '1695000', 'sell': '1830000', 'server_time': 1667968274, 'name': 'Bitcoin Cash'}, 'belt_idr': {'high': '5949', 'low': '4702', 'vol_belt': '4070.37821085', 'vol_idr': '21001512', 'last': '4810', 'buy': '4810', 'sell': '5580', 'server_time': 1667968274, 'name': 'Belt Finance'}, 'bnb_idr': {'high': '6135283', 'low': '4830181', 'vol_bnb': '2511.00744469', 'vol_idr': '13598111435', 'last': '5095989', 'buy': '5095535', 'sell': '5095990', 'server_time': 1667968274, 'name': 'BNB'}, 'bnbhedge_idr': {'high': '93000', 'low': '959', 'vol_bnbhedge': '6168.08726542', 'vol_idr': '471362668', 'last': '85000', 'buy': '84990', 'sell': '84999', 'server_time': 1667968274, 'name': '1X Short BNB Token'}, 'bnt_idr': {'high': '7899', 'low': '6573', 'vol_bnt': '2187.00132474', 'vol_idr': '15576749', 'last': '7304', 'buy': '6536', 'sell': '7176', 'server_time': 1667968274, 'name': 'Bancor Network Token'}, 'bora_idr': {'high': '3369', 'low': '2900', 'vol_bora': '10405.58907887', 'vol_idr': '32568654', 'last': '3200', 'buy': '2900', 'sell': '3367', 'server_time': 1667968274, 'name': 'BORA'}, 'botx_idr': {'high': '205', 'low': '172', 'vol_botx': '1319205.68510757', 'vol_idr': '252707597', 'last': '177', 'buy': '177', 'sell': '182', 'server_time': 1667968274, 'name': 'BotXcoin'}, 'bsv_idr': {'high': '757000', 'low': '650000', 'vol_bsv': '156.82992689', 'vol_idr': '112843156', 'last': '660000', 'buy': '650000', 'sell': '699000', 'server_time': 1667968274, 'name': 'Bitcoin SV'}, 'btg_idr': {'high': '273000', 'low': '244000', 'vol_btg': '559.14701091', 'vol_idr': '144746264', 'last': '265000', 'buy': '246000', 'sell': '264000', 'server_time': 1667968274, 'name': 'Bitcoin Gold'}, 'btr_idr': {'high': '420', 'low': '390', 'vol_btr': '302033.92134006', 'vol_idr': '121184960', 'last': '400', 'buy': '391', 'sell': '400', 'server_time': 1667968274, 'name': 'Btrips'}, 'bts_idr': {'high': '168', 'low': '141', 'vol_bts': '148081.03790079', 'vol_idr': '22308755', 'last': '141', 'buy': '141', 'sell': '142', 'server_time': 1667968274, 'name': 'BitShares'}, 'busd_idr': {'high': '16174', 'low': '15677', 'vol_busd': '369795.23971011', 'vol_idr': '5853803985', 'last': '15832', 'buy': '15793', 'sell': '15832', 'server_time': 1667968274, 'name': 'Binance USD'}, 'cake_idr': {'high': '83394', 'low': '70001', 'vol_cake': '2313.97822990', 'vol_idr': '170723696', 'last': '74926', 'buy': '71136', 'sell': '74926', 'server_time': 1667968274, 'name': 'PancakeSwap'}, 'cbg_idr': {'high': '55600', 'low': '29007', 'vol_cbg': '104634.81655442', 'vol_idr': '4333887479', 'last': '31979', 'buy': '30184', 'sell': '31899', 'server_time': 1667968274, 'name': 'Chainbing'}, 'cel_idr': {'high': '15300', 'low': '12100', 'vol_cel': '61564.50339817', 'vol_idr': '830462361', 'last': '12382', 'buy': '12385', 'sell': '12460', 'server_time': 1667968274, 'name': 'Celsius'}, 'celo_idr': {'high': '11754', 'low': '8779', 'vol_celo': '26563.46482697', 'vol_idr': '256059201', 'last': '8830', 'buy': '8827', 'sell': '8837', 'server_time': 1667968274, 'name': 'Celo'}, 'chz_idr': {'high': '4285', 'low': '3057', 'vol_chz': '279881.74226604', 'vol_idr': '1005013124', 'last': '3340', 'buy': '3151', 'sell': '3329', 'server_time': 1667968274, 'name': 'Chiliz'}, 'cind_idr': {'high': '14', 'low': '12', 'vol_cind': '5648038.67811231', 'vol_idr': '74437337', 'last': '14', 'buy': '13', 'sell': '14', 'server_time': 1667968274, 'name': 'Cindrum'}, 'ckb_idr': {'high': '53', 'low': '46', 'vol_ckb': '4687992.63354581', 'vol_idr': '235659968', 'last': '48', 'buy': '46', 'sell': '48', 'server_time': 1667968274, 'name': 'Nervos Network'}, 'coal_idr': {'high': '63', 'low': '36', 'vol_coal': '34152080.14553759', 'vol_idr': '1675802020', 'last': '41', 'buy': '41', 'sell': '42', 'server_time': 1667968274, 'name': 'Coalculus'}, 'comp_idr': {'high': '760317', 'low': '600002', 'vol_comp': '86.22637378', 'vol_idr': '58361834', 'last': '670514', 'buy': '669121', 'sell': '673625', 'server_time': 1667968274, 'name': 'Compound'}, 'cfx_idr': {'high': '629', 'low': '488', 'vol_cfx': '39878.52407000', 'vol_idr': '21781041', 'last': '550', 'buy': '455', 'sell': '550', 'server_time': 1667968274, 'name': 'Conflux'}, 'coti_idr': {'high': '1700', 'low': '1500', 'vol_coti': '165207.73425396', 'vol_idr': '258837350', 'last': '1501', 'buy': '1500', 'sell': '1501', 'server_time': 1667968274, 'name': 'Coti'}, 'cre_idr': {'high': '65', 'low': '54', 'vol_cre': '1104209.91680328', 'vol_idr': '65216424', 'last': '60', 'buy': '59', 'sell': '60', 'server_time': 1667968274, 'name': 'Carry'}, 'cro_idr': {'high': '1909', 'low': '1580', 'vol_cro': '651442.59773371', 'vol_idr': '1114273517', 'last': '1611', 'buy': '1600', 'sell': '1611', 'server_time': 1667968274, 'name': 'Crypto.com Chain'}, 'crv_idr': {'high': '15000', 'low': '11350', 'vol_crv': '66667.31481465', 'vol_idr': '938340828', 'last': '11973', 'buy': '11923', 'sell': '11983', 'server_time': 1667968274, 'name': 'Curve DAO Token'}, 'ctsi_idr': {'high': '2387', 'low': '1800', 'vol_ctsi': '14311.53855045', 'vol_idr': '30840873', 'last': '2262', 'buy': '1809', 'sell': '2220', 'server_time': 1667968274, 'name': 'Cartesi'}, 'cvc_idr': {'high': '2149', 'low': '1700', 'vol_cvc': '114101.55938152', 'vol_idr': '212646402', 'last': '1990', 'buy': '1700', 'sell': '1990', 'server_time': 1667968274, 'name': 'Civic'}, 'cvx_idr': {'high': '85000', 'low': '75005', 'vol_cvx': '2336.88077517', 'vol_idr': '179924456', 'last': '82500', 'buy': '77000', 'sell': '82500', 'server_time': 1667968274, 'name': 'Convex Finance'}, 'dad_idr': {'high': '485', 'low': '424', 'vol_dad': '102728.74269969', 'vol_idr': '46922346', 'last': '472', 'buy': '424', 'sell': '472', 'server_time': 1667968274, 'name': 'DAD'}, 'dai_idr': {'high': '15700', 'low': '15556', 'vol_dai': '9539.22979055', 'vol_idr': '149227522', 'last': '15696', 'buy': '15676', 'sell': '15699', 'server_time': 1667968274, 'name': 'Multi-collateral DAI'}, 'dao_idr': {'high': '20974', 'low': '19243', 'vol_dao': '127.44804600', 'vol_idr': '2507611', 'last': '19500', 'buy': '19243', 'sell': '20962', 'server_time': 1667968274, 'name': 'Dao Maker'}, 'dash_idr': {'high': '724000', 'low': '588000', 'vol_dash': '149.29190878', 'vol_idr': '95543124', 'last': '588000', 'buy': '589000', 'sell': '622000', 'server_time': 1667968274, 'name': 'DASH'}, 'dax_idr': {'high': '132', 'low': '52', 'vol_dax': '112876340.82941990', 'vol_idr': '10280700654', 'last': '74', 'buy': '74', 'sell': '75', 'server_time': 1667968274, 'name': 'DAEX'}, 'dent_idr': {'high': '14', 'low': '12', 'vol_dent': '30551618.21254201', 'vol_idr': '391446659', 'last': '12', 'buy': '12', 'sell': '13', 'server_time': 1667968274, 'name': 'Dent'}, 'dep_idr': {'high': '86', 'low': '80', 'vol_dep': '16174830.55312815', 'vol_idr': '1363269187', 'last': '80', 'buy': '80', 'sell': '81', 'server_time': 1667968274, 'name': 'DEAPcoin'}, 'dfg_idr': {'high': '51998', 'low': '45014', 'vol_dfg': '2732.38939143', 'vol_idr': '134090261', 'last': '50002', 'buy': '50030', 'sell': '51698', 'server_time': 1667968274, 'name': 'Defigram'}, 'dgb_idr': {'high': '143', 'low': '119', 'vol_dgb': '1807695.41769683', 'vol_idr': '233195264', 'last': '123', 'buy': '121', 'sell': '123', 'server_time': 1667968274, 'name': 'DigiByte'}, 'dgx_idr': {'high': '610000', 'low': '581002', 'vol_dgx': '18.71372441', 'vol_idr': '10907832', 'last': '582000', 'buy': '581003', 'sell': '599999', 'server_time': 1667968274, 'name': 'Digix Gold Token'}, 'dnt_idr': {'high': '467', 'low': '400', 'vol_dnt': '35840.15002568', 'vol_idr': '14938826', 'last': '400', 'buy': '400', 'sell': '430', 'server_time': 1667968274, 'name': 'district0x'}, 'doge_idr': {'high': '1754', 'low': '1310', 'vol_doge': '18173624.67332532', 'vol_idr': '27661583838', 'last': '1360', 'buy': '1359', 'sell': '1360', 'server_time': 1667968274, 'name': 'Dogecoin'}, 'dot_idr': {'high': '109390', 'low': '97800', 'vol_dot': '14366.28424777', 'vol_idr': '1456822156', 'last': '98018', 'buy': '98565', 'sell': '99075', 'server_time': 1667968274, 'name': 'Polkadot'}, 'dvi_idr': {'high': '460', 'low': '375', 'vol_dvi': '135349.92716304', 'vol_idr': '55934446', 'last': '388', 'buy': '386', 'sell': '388', 'server_time': 1667968274, 'name': 'Dvision Network'}, 'dydx_idr': {'high': '28289', 'low': '21747', 'vol_dydx': '3107.67553001', 'vol_idr': '76277738', 'last': '21747', 'buy': '22000', 'sell': '26061', 'server_time': 1667968274, 'name': 'dYdX'}, 'efi_idr': {'high': '1719', 'low': '1599', 'vol_efi': '4634.43385981', 'vol_idr': '7553110', 'last': '1618', 'buy': '1618', 'sell': '1693', 'server_time': 1667968274, 'name': 'Efinity Token'}, 'egld_idr': {'high': '855000', 'low': '752000', 'vol_egld': '135.65212489', 'vol_idr': '110651363', 'last': '752000', 'buy': '761201', 'sell': '765710', 'server_time': 1667968274, 'name': 'Elrond'}, 'elf_idr': {'high': '2098', 'low': '1800', 'vol_elf': '3188.23284536', 'vol_idr': '5910902', 'last': '1998', 'buy': '1764', 'sell': '1997', 'server_time': 1667968274, 'name': 'aelf'}, 'em_idr': {'high': '18', 'low': '16', 'vol_em': '11434892.78799924', 'vol_idr': '191811464', 'last': '16', 'buy': '16', 'sell': '17', 'server_time': 1667968274, 'name': 'Eminer'}, 'enj_idr': {'high': '7185', 'low': '5767', 'vol_enj': '19361.02049944', 'vol_idr': '122882356', 'last': '6102', 'buy': '6132', 'sell': '6179', 'server_time': 1667968274, 'name': 'Enjin Coin'}, 'eos_idr': {'high': '17831', 'low': '14404', 'vol_eos': '23169.07899169', 'vol_idr': '369620811', 'last': '14934', 'buy': '14991', 'sell': '15026', 'server_time': 1667968274, 'name': 'EOS'}, 'etc_idr': {'high': '390800', 'low': '340100', 'vol_etc': '1696.79705013', 'vol_idr': '607659156', 'last': '341600', 'buy': '341600', 'sell': '342600', 'server_time': 1667968274, 'name': 'Ethereum Classic'}, 'erg_idr': {'high': '32000', 'low': '30000', 'vol_erg': '536.15336048', 'vol_idr': '16230312', 'last': '30000', 'buy': '30000', 'sell': '30063', 'server_time': 1667968274, 'name': 'Ergo'}, 'eth_idr': {'high': '24577000', 'low': '20600000', 'vol_eth': '1306.25606332', 'vol_idr': '28659179336', 'last': '20875000', 'buy': '20870000', 'sell': '20875000', 'server_time': 1667968274, 'name': 'Ethereum'}, 'ethhedge_idr': {'high': '255000', 'low': '149000', 'vol_ethhedge': '5039.49407788', 'vol_idr': '1143191857', 'last': '180000', 'buy': '180000', 'sell': '189990', 'server_time': 1667968274, 'name': '1X Short Ethereum Token'}, 'eurs_idr': {'high': '15457', 'low': '14998', 'vol_eurs': '977.71572716', 'vol_idr': '14935752', 'last': '15457', 'buy': '15100', 'sell': '15457', 'server_time': 1667968274, 'name': 'Stasis Euro'}, 'ever_idr': {'high': '798', 'low': '769', 'vol_ever': '144039.54534661', 'vol_idr': '113069129', 'last': '770', 'buy': '770', 'sell': '775', 'server_time': 1667968274, 'name': 'Everscale'}, 'fil_idr': {'high': '89998', 'low': '78800', 'vol_fil': '1663.45460630', 'vol_idr': '135880559', 'last': '80713', 'buy': '80000', 'sell': '85000', 'server_time': 1667968274, 'name': 'Filecoin'}, 'firo_idr': {'high': '34300', 'low': '28100', 'vol_firo': '14884.39899510', 'vol_idr': '467672808', 'last': '28200', 'buy': '28200', 'sell': '28400', 'server_time': 1667968274, 'name': 'Firo'}, 'ftm_idr': {'high': '4070', 'low': '3222', 'vol_ftm': '387128.29537717', 'vol_idr': '1420247584', 'last': '3346', 'buy': '3350', 'sell': '3358', 'server_time': 1667968274, 'name': 'Fantom'}, 'ftt_idr': {'high': '316000', 'low': '57000', 'vol_ftt': '177648.72874770', 'vol_idr': '17258736451', 'last': '80400', 'buy': '80002', 'sell': '80400', 'server_time': 1667968274, 'name': 'FTX Token'}, 'pgala_idr': {'high': '117', 'low': '57', 'vol_pgala': '394472664.16239045', 'vol_idr': '35373967377', 'last': '84', 'buy': '83', 'sell': '84', 'server_time': 1667968274, 'name': 'pGALA'}, 'gict_idr': {'high': '14573', 'low': '14458', 'vol_gict': '46436.96486214', 'vol_idr': '674094886', 'last': '14548', 'buy': '14548', 'sell': '14553', 'server_time': 1667968274, 'name': 'GICTrade'}, 'glch_idr': {'high': '799', 'low': '708', 'vol_glch': '210665.23268782', 'vol_idr': '156867699', 'last': '720', 'buy': '716', 'sell': '720', 'server_time': 1667968274, 'name': 'Glitch'}, 'glm_idr': {'high': '4566', 'low': '3800', 'vol_glm': '5756.04258582', 'vol_idr': '23676372', 'last': '3852', 'buy': '3611', 'sell': '3800', 'server_time': 1667968274, 'name': 'Golem'}, 'gmt_idr': {'high': '9871', 'low': '7555', 'vol_gmt': '2548.22259355', 'vol_idr': '23900324', 'last': '9400', 'buy': '7610', 'sell': '9299', 'server_time': 1667968274, 'name': 'STEPN'}, 'grt_idr': {'high': '1349', 'low': '1170', 'vol_grt': '358461.29041140', 'vol_idr': '451563291', 'last': '1200', 'buy': '1200', 'sell': '1220', 'server_time': 1667968274, 'name': 'The Graph'}, 'gsc_idr': {'high': '34', 'low': '18', 'vol_gsc': '102464879.33586645', 'vol_idr': '2730623692', 'last': '23', 'buy': '23', 'sell': '25', 'server_time': 1667968274, 'name': 'Global Social Chain'}, 'gxc_idr': {'high': '7590', 'low': '7000', 'vol_gxc': '26278.30790966', 'vol_idr': '190425221', 'last': '7000', 'buy': '7001', 'sell': '7194', 'server_time': 1667968274, 'name': 'GXChain'}, 'hart_idr': {'high': '65', 'low': '36', 'vol_hart': '190716596.04280308', 'vol_idr': '9752744757', 'last': '42', 'buy': '42', 'sell': '43', 'server_time': 1667968274, 'name': 'Hara Token'}, 'hbar_idr': {'high': '909', 'low': '780', 'vol_hbar': '1495422.51144520', 'vol_idr': '1268320953', 'last': '803', 'buy': '801', 'sell': '804', 'server_time': 1667968274, 'name': 'Hedera Hashgraph'}, 'hedg_idr': {'high': '2170', 'low': '2020', 'vol_hedg': '24140.94423135', 'vol_idr': '49886077', 'last': '2133', 'buy': '2032', 'sell': '2122', 'server_time': 1667968274, 'name': 'HedgeTrade'}, 'hedge_idr': {'high': '2150000', 'low': '1850533', 'vol_hedge': '129.53296118', 'vol_idr': '261530162', 'last': '2092000', 'buy': '2091816', 'sell': '2092000', 'server_time': 1667968274, 'name': '1x Short Bitcoin Token'}, 'hibs_idr': {'high': '11', 'low': '9', 'vol_hibs': '8517837.05064289', 'vol_idr': '85069117', 'last': '9', 'buy': '9', 'sell': '10', 'server_time': 1667968274, 'name': 'Hiblocks'}, 'hitop_idr': {'high': '7', 'low': '4', 'vol_hitop': '249936219.15696252', 'vol_idr': '1361203260', 'last': '5', 'buy': '4', 'sell': '5', 'server_time': 1667968274, 'name': 'Hitop'}, 'hive_idr': {'high': '7347', 'low': '6000', 'vol_hive': '4972.08693413', 'vol_idr': '33199796', 'last': '6000', 'buy': '6000', 'sell': '6333', 'server_time': 1667968274, 'name': 'HIVE'}, 'hnst_idr': {'high': '141', 'low': '124', 'vol_hnst': '846986.38082395', 'vol_idr': '110502543', 'last': '124', 'buy': '124', 'sell': '125', 'server_time': 1667968274, 'name': 'Honest'}, 'hnt_idr': {'high': '62209', 'low': '50000', 'vol_hnt': '1092.17851668', 'vol_idr': '58860974', 'last': '56999', 'buy': '50000', 'sell': '57000', 'server_time': 1667968274, 'name': 'Helium'}, 'hot_idr': {'high': '32', 'low': '28', 'vol_hot': '42883314.75066769', 'vol_idr': '1257917657', 'last': '29', 'buy': '28', 'sell': '29', 'server_time': 1667968274, 'name': 'Holo'}, 'hpb_idr': {'high': '212', 'low': '193', 'vol_hpb': '594421.08062068', 'vol_idr': '119874756', 'last': '195', 'buy': '195', 'sell': '196', 'server_time': 1667968274, 'name': 'High Performance Blockchain'}, 'idk_idr': {'high': '1001', 'low': '999', 'vol_idk': '3518435.23309731', 'vol_idr': '3518041911', 'last': '1000', 'buy': '999', 'sell': '1000', 'server_time': 1667968274, 'name': 'IDK'}, 'ignis_idr': {'high': '80', 'low': '70', 'vol_ignis': '1010281.39144678', 'vol_idr': '74420995', 'last': '70', 'buy': '70', 'sell': '76', 'server_time': 1667968274, 'name': 'IGNIS'}, 'imx_idr': {'high': '9480', 'low': '7747', 'vol_imx': '25441.98379036', 'vol_idr': '221002301', 'last': '7800', 'buy': '7800', 'sell': '7870', 'server_time': 1667968274, 'name': 'Immutable X'}, 'inj_idr': {'high': '37642', 'low': '28035', 'vol_inj': '409.47699419', 'vol_idr': '14165204', 'last': '35000', 'buy': '28036', 'sell': '35000', 'server_time': 1667968274, 'name': 'Injective Protocol'}, 'iost_idr': {'high': '176', 'low': '150', 'vol_iost': '872875.34915676', 'vol_idr': '138545048', 'last': '153', 'buy': '152', 'sell': '153', 'server_time': 1667968274, 'name': 'IOST'}, 'iota_idr': {'high': '4189', 'low': '3520', 'vol_iota': '5410.33502435', 'vol_idr': '21055547', 'last': '4142', 'buy': '3590', 'sell': '4142', 'server_time': 1667968274, 'name': 'IOTA'}, 'iotx_idr': {'high': '522', 'low': '443', 'vol_iotx': '8080.08370312', 'vol_idr': '3896270', 'last': '475', 'buy': '443', 'sell': '471', 'server_time': 1667968274, 'name': 'IoTeX'}, 'jst_idr': {'high': '445', 'low': '392', 'vol_jst': '81323.09967385', 'vol_idr': '33280400', 'last': '392', 'buy': '390', 'sell': '442', 'server_time': 1667968274, 'name': 'JUST'}, 'kai_idr': {'high': '114', 'low': '98', 'vol_kai': '3720842.24764345', 'vol_idr': '396392759', 'last': '100', 'buy': '100', 'sell': '101', 'server_time': 1667968274, 'name': 'Kardiachain'}, 'kava_idr': {'high': '21250', 'low': '17000', 'vol_kava': '1556.58847455', 'vol_idr': '31615898', 'last': '19800', 'buy': '17100', 'sell': '18000', 'server_time': 1667968274, 'name': 'Kava'}, 'kdag_idr': {'high': '2299', 'low': '2109', 'vol_kdag': '9486.24449560', 'vol_idr': '20658387', 'last': '2110', 'buy': '2109', 'sell': '2110', 'server_time': 1667968274, 'name': 'King DAG'}, 'klay_idr': {'high': '3388', 'low': '2667', 'vol_klay': '28448.84064659', 'vol_idr': '86000255', 'last': '2879', 'buy': '2881', 'sell': '2900', 'server_time': 1667968274, 'name': 'Klaytn'}, 'knc_idr': {'high': '13406', 'low': '10551', 'vol_knc': '2810.66290856', 'vol_idr': '33405146', 'last': '10551', 'buy': '10564', 'sell': '10650', 'server_time': 1667968274, 'name': 'Kyber Network Crystal v2'}, 'kok_idr': {'high': '2676', 'low': '2100', 'vol_kok': '32838.01383985', 'vol_idr': '79319524', 'last': '2200', 'buy': '2199', 'sell': '2200', 'server_time': 1667968274, 'name': 'Kok'}, 'krd_idr': {'high': '6007', 'low': '5641', 'vol_krd': '57045.12496607', 'vol_idr': '336426646', 'last': '5756', 'buy': '5756', 'sell': '5995', 'server_time': 1667968274, 'name': 'Krypton DAO'}, 'ksm_idr': {'high': '552825', 'low': '464000', 'vol_ksm': '80.47880458', 'vol_idr': '40487335', 'last': '518214', 'buy': '451199', 'sell': '514997', 'server_time': 1667968274, 'name': 'Kusama'}, 'kunci_idr': {'high': '675', 'low': '465', 'vol_kunci': '3762100.38061644', 'vol_idr': '2217264609', 'last': '607', 'buy': '607', 'sell': '608', 'server_time': 1667968274, 'name': 'Kunci Coin'}, 'let_idr': {'high': '15', 'low': '12', 'vol_let': '39877844.15422006', 'vol_idr': '527311100', 'last': '12', 'buy': '12', 'sell': '13', 'server_time': 1667968274, 'name': 'LinkEye'}, 'lgold_idr': {'high': '770000', 'low': '752000', 'vol_lgold': '17.62049476', 'vol_idr': '13424080', 'last': '765285', 'buy': '759428', 'sell': '769997', 'server_time': 1667968274, 'name': 'Lyfe Gold'}, 'link_idr': {'high': '148577', 'low': '110000', 'vol_link': '6883.27290964', 'vol_idr': '858112460', 'last': '117785', 'buy': '117000', 'sell': '117051', 'server_time': 1667968274, 'name': 'Chainlink'}, 'lland_idr': {'high': '55980', 'low': '54000', 'vol_lland': '349.92783728', 'vol_idr': '19070948', 'last': '55980', 'buy': '53808', 'sell': '55980', 'server_time': 1667968274, 'name': 'Lyfe Land'}, 'loom_idr': {'high': '841', 'low': '737', 'vol_loom': '40307.16098356', 'vol_idr': '31688440', 'last': '737', 'buy': '737', 'sell': '745', 'server_time': 1667968274, 'name': 'Loom Network'}, 'lpt_idr': {'high': '177997', 'low': '130000', 'vol_lpt': '1678.26159259', 'vol_idr': '238364986', 'last': '130000', 'buy': '130000', 'sell': '146354', 'server_time': 1667968274, 'name': 'Livepeer'}, 'lrc_idr': {'high': '5041', 'low': '4225', 'vol_lrc': '8853.71502960', 'vol_idr': '39248973', 'last': '4244', 'buy': '4225', 'sell': '4249', 'server_time': 1667968274, 'name': 'Loopring'}, 'lsilver_idr': {'high': '9694', 'low': '9000', 'vol_lsilver': '4548.51667244', 'vol_idr': '42112169', 'last': '9090', 'buy': '9090', 'sell': '9629', 'server_time': 1667968274, 'name': 'Lyfe Silver'}, 'ltc_idr': {'high': '1075000', 'low': '872000', 'vol_ltc': '1223.81592809', 'vol_idr': '1178594770', 'last': '936000', 'buy': '939000', 'sell': '943000', 'server_time': 1667968274, 'name': 'Litecoin'}, 'luna_idr': {'high': '36500', 'low': '25000', 'vol_luna': '30510.74996269', 'vol_idr': '946690528', 'last': '29016', 'buy': '28853', 'sell': '28952', 'server_time': 1667968274, 'name': 'Terra'}, 'lyfe_idr': {'high': '190', 'low': '160', 'vol_lyfe': '2320176.23646914', 'vol_idr': '399749787', 'last': '161', 'buy': '160', 'sell': '164', 'server_time': 1667968274, 'name': 'Lyfe'}, 'mana_idr': {'high': '10264', 'low': '8700', 'vol_mana': '41661.37538344', 'vol_idr': '388721616', 'last': '8906', 'buy': '8785', 'sell': '9083', 'server_time': 1667968274, 'name': 'Decentraland'}, 'matic_idr': {'high': '19304', 'low': '15000', 'vol_matic': '326584.78429377', 'vol_idr': '5565319290', 'last': '15498', 'buy': '15465', 'sell': '15498', 'server_time': 1667968274, 'name': 'Matic Network'}, 'mbl_idr': {'high': '50', 'low': '43', 'vol_mbl': '26353532.34737560', 'vol_idr': '1231172832', 'last': '44', 'buy': '43', 'sell': '44', 'server_time': 1667968274, 'name': 'MovieBloc'}, 'mbx_idr': {'high': '47000', 'low': '35534', 'vol_mbx': '950.95434938', 'vol_idr': '40487048', 'last': '44790', 'buy': '39000', 'sell': '44780', 'server_time': 1667968274, 'name': 'MARBLEX'}, 'mct_idr': {'high': '21898', 'low': '10010', 'vol_mct': '234723.45548252', 'vol_idr': '3536109158', 'last': '10499', 'buy': '10501', 'sell': '10527', 'server_time': 1667968274, 'name': 'Metacraft'}, 'meta_idr': {'high': '1930', 'low': '1001', 'vol_meta': '893281.68864577', 'vol_idr': '1258394769', 'last': '1050', 'buy': '1050', 'sell': '1057', 'server_time': 1667968274, 'name': 'Metadium'}, 'mkr_idr': {'high': '13370987', 'low': '9999999', 'vol_mkr': '5.30536864', 'vol_idr': '66135891', 'last': '11659829', 'buy': '11000008', 'sell': '11659829', 'server_time': 1667968274, 'name': 'Maker'}, 'mmeta_idr': {'high': '735', 'low': '490', 'vol_mmeta': '2280479.95395248', 'vol_idr': '1375527507', 'last': '499', 'buy': '499', 'sell': '500', 'server_time': 1667968274, 'name': 'Duckie Land'}, 'nbt_idr': {'high': '81', 'low': '71', 'vol_nbt': '7725409.85773545', 'vol_idr': '599311193', 'last': '72', 'buy': '71', 'sell': '72', 'server_time': 1667968274, 'name': 'NanoByte'}, 'near_idr': {'high': '46708', 'low': '40000', 'vol_near': '7743.87965494', 'vol_idr': '336144616', 'last': '40200', 'buy': '40251', 'sell': '40414', 'server_time': 1667968274, 'name': 'NEAR Protocol'}, 'neo_idr': {'high': '140000', 'low': '114500', 'vol_neo': '405.60367242', 'vol_idr': '50119225', 'last': '139400', 'buy': '114500', 'sell': '128900', 'server_time': 1667968274, 'name': 'Neo'}, 'nexo_idr': {'high': '16720', 'low': '14500', 'vol_nexo': '27.26218820', 'vol_idr': '409740', 'last': '16720', 'buy': '14508', 'sell': '16720', 'server_time': 1667968274, 'name': 'Nexo'}, 'nrg_idr': {'high': '3033', 'low': '2746', 'vol_nrg': '9922.76891394', 'vol_idr': '28096725', 'last': '2751', 'buy': '2746', 'sell': '2751', 'server_time': 1667968274, 'name': 'Energi'}, 'nusa_idr': {'high': '410000', 'low': '270001', 'vol_nusa': '732.01225537', 'vol_idr': '264704075', 'last': '306000', 'buy': '289007', 'sell': '306000', 'server_time': 1667968274, 'name': 'Nusa'}, 'nxt_idr': {'high': '62', 'low': '49', 'vol_nxt': '676995.46784613', 'vol_idr': '36625656', 'last': '55', 'buy': '49', 'sell': '55', 'server_time': 1667968274, 'name': 'NXT'}, 'ocean_idr': {'high': '3369', 'low': '2500', 'vol_ocean': '67519.07134526', 'vol_idr': '192200754', 'last': '2732', 'buy': '2510', 'sell': '2670', 'server_time': 1667968274, 'name': 'Ocean Protocol'}, 'octo_idr': {'high': '37500', 'low': '21511', 'vol_octo': '30892.52252850', 'vol_idr': '883321787', 'last': '22490', 'buy': '21626', 'sell': '22954', 'server_time': 1667968274, 'name': 'OctoFi'}, 'ogn_idr': {'high': '2340', 'low': '1940', 'vol_ogn': '15428.69990718', 'vol_idr': '32670970', 'last': '2017', 'buy': '1940', 'sell': '2019', 'server_time': 1667968274, 'name': 'Origin Protocol'}, 'okb_idr': {'high': '398676', 'low': '330000', 'vol_okb': '208.30802957', 'vol_idr': '72129506', 'last': '330000', 'buy': '330000', 'sell': '350662', 'server_time': 1667968274, 'name': 'OKB'}, 'omg_idr': {'high': '25417', 'low': '22415', 'vol_omg': '4319.38224628', 'vol_idr': '104304224', 'last': '22415', 'buy': '22415', 'sell': '22881', 'server_time': 1667968274, 'name': 'OMG Network'}, 'onit_idr': {'high': '620', 'low': '495', 'vol_onit': '5660585.71557262', 'vol_idr': '3150848028', 'last': '516', 'buy': '502', 'sell': '514', 'server_time': 1667968274, 'name': 'ONBUFF'}, 'ont_idr': {'high': '3579', 'low': '2981', 'vol_ont': '4548.96917119', 'vol_idr': '14279746', 'last': '3008', 'buy': '2704', 'sell': '3103', 'server_time': 1667968274, 'name': 'Ontology'}, 'orbs_idr': {'high': '538', 'low': '462', 'vol_orbs': '12537.51877654', 'vol_idr': '6122985', 'last': '490', 'buy': '460', 'sell': '489', 'server_time': 1667968274, 'name': 'Orbs'}, 'orc_idr': {'high': '1780', 'low': '1500', 'vol_orc': '25689.24891047', 'vol_idr': '40082470', 'last': '1500', 'buy': '1500', 'sell': '1528', 'server_time': 1667968274, 'name': 'Orbit Chain'}, 'oxt_idr': {'high': '1583', 'low': '1411', 'vol_oxt': '9285.65561638', 'vol_idr': '13911532', 'last': '1537', 'buy': '1417', 'sell': '1538', 'server_time': 1667968274, 'name': 'Orchid'}, 'pando_idr': {'high': '61', 'low': '57', 'vol_pando': '1287633.53480336', 'vol_idr': '75455458', 'last': '58', 'buy': '58', 'sell': '59', 'server_time': 1667968274, 'name': 'Pando'}, 'paxg_idr': {'high': '27484775', 'low': '26224772', 'vol_paxg': '0.15994954', 'vol_idr': '4300206', 'last': '27484775', 'buy': '26742770', 'sell': '27484775', 'server_time': 1667968274, 'name': 'Pax Gold'}, 'perp_idr': {'high': '9138', 'low': '6701', 'vol_perp': '7487.83160126', 'vol_idr': '57736912', 'last': '7872', 'buy': '6701', 'sell': '7863', 'server_time': 1667968274, 'name': 'Perpetual Protocol'}, 'poly_idr': {'high': '4100', 'low': '3800', 'vol_poly': '3049.15994636', 'vol_idr': '12346142', 'last': '3800', 'buy': '3800', 'sell': '3900', 'server_time': 1667968274, 'name': 'Polymath'}, 'qnt_idr': {'high': '2400000', 'low': '2116000', 'vol_qnt': '89.67943432', 'vol_idr': '207552920', 'last': '2264730', 'buy': '2203215', 'sell': '2217212', 'server_time': 1667968274, 'name': 'Quant'}, 'qtum_idr': {'high': '45255', 'low': '38849', 'vol_qtum': '463.97260056', 'vol_idr': '18833923', 'last': '39710', 'buy': '39500', 'sell': '42000', 'server_time': 1667968274, 'name': 'Qtum'}, 'ren_idr': {'high': '1900', 'low': '1499', 'vol_ren': '20795.61578225', 'vol_idr': '35990698', 'last': '1605', 'buy': '1542', 'sell': '1599', 'server_time': 1667968274, 'name': 'Ren'}, 'rep_idr': {'high': '110000', 'low': '91000', 'vol_rep': '281.04680627', 'vol_idr': '26652488', 'last': '95000', 'buy': '91000', 'sell': '109221', 'server_time': 1667968274, 'name': 'Augur v2'}, 'rev_idr': {'high': '13', 'low': '9', 'vol_rev': '34622762.92494632', 'vol_idr': '377546032', 'last': '11', 'buy': '10', 'sell': '11', 'server_time': 1667968274, 'name': 'Revain'}, 'rvn_idr': {'high': '460', 'low': '390', 'vol_rvn': '445150.43016340', 'vol_idr': '189182481', 'last': '400', 'buy': '400', 'sell': '403', 'server_time': 1667968274, 'name': 'Ravencoin'}, 'sand_idr': {'high': '12929', 'low': '10900', 'vol_sand': '135163.23385722', 'vol_idr': '1577176234', 'last': '10977', 'buy': '10970', 'sell': '10977', 'server_time': 1667968274, 'name': 'The Sandbox'}, 'sfi_idr': {'high': '769899', 'low': '666666', 'vol_sfi': '126.92350571', 'vol_idr': '90151697', 'last': '670000', 'buy': '670000', 'sell': '671000', 'server_time': 1667968274, 'name': 'saffron.finance'}, 'shill_idr': {'high': '387', 'low': '320', 'vol_shill': '54462.83816256', 'vol_idr': '18941442', 'last': '345', 'buy': '325', 'sell': '345', 'server_time': 1667968274, 'name': 'Shill Token'}, 'signa_idr': {'high': '42', 'low': '37', 'vol_signa': '1972914.74205804', 'vol_idr': '76365856', 'last': '40', 'buy': '39', 'sell': '40', 'server_time': 1667968274, 'name': 'Signum'}, 'slp_idr': {'high': '54', 'low': '46', 'vol_slp': '14458611.17336322', 'vol_idr': '711231881', 'last': '47', 'buy': '46', 'sell': '47', 'server_time': 1667968274, 'name': 'Smooth Love Potion'}, 'snx_idr': {'high': '38967', 'low': '32000', 'vol_snx': '2181.47803016', 'vol_idr': '76640959', 'last': '33825', 'buy': '33727', 'sell': '33825', 'server_time': 1667968274, 'name': 'Synthetix Network Token'}, 'sol_idr': {'high': '495000', 'low': '349662', 'vol_sol': '21771.45708390', 'vol_idr': '9145763324', 'last': '354000', 'buy': '355000', 'sell': '368000', 'server_time': 1667968274, 'name': 'Solana'}, 'solve_idr': {'high': '541', 'low': '495', 'vol_solve': '783538.88955678', 'vol_idr': '409778489', 'last': '500', 'buy': '495', 'sell': '496', 'server_time': 1667968274, 'name': 'Solve'}, 'srm_idr': {'high': '11599', 'low': '5620', 'vol_srm': '16936.47899376', 'vol_idr': '164335346', 'last': '8499', 'buy': '7506', 'sell': '8300', 'server_time': 1667968274, 'name': 'Serum'}, 'storj_idr': {'high': '7450', 'low': '6380', 'vol_storj': '4773.30175726', 'vol_idr': '30742442', 'last': '7397', 'buy': '6382', 'sell': '7394', 'server_time': 1667968274, 'name': 'Storj'}, 'strm_idr': {'high': '369', 'low': '340', 'vol_strm': '1973739.09245654', 'vol_idr': '705954238', 'last': '354', 'buy': '335', 'sell': '356', 'server_time': 1667968274, 'name': 'StreamCoin'}, 'sumo_idr': {'high': '229', 'low': '197', 'vol_sumo': '1521625.73746905', 'vol_idr': '313467387', 'last': '202', 'buy': '199', 'sell': '203', 'server_time': 1667968274, 'name': 'Sumokoin'}, 'sushi_idr': {'high': '28750', 'low': '20877', 'vol_sushi': '12741.93261641', 'vol_idr': '298143669', 'last': '21296', 'buy': '21227', 'sell': '21380', 'server_time': 1667968274, 'name': 'SushiSwap'}, 'sxp_idr': {'high': '4936', 'low': '4000', 'vol_sxp': '8061.73150737', 'vol_idr': '35205687', 'last': '4000', 'buy': '4000', 'sell': '4103', 'server_time': 1667968274, 'name': 'Swipe'}, 'tel_idr': {'high': '36', 'low': '27', 'vol_tel': '31373930.64669863', 'vol_idr': '997126151', 'last': '29', 'buy': '29', 'sell': '30', 'server_time': 1667968274, 'name': 'Telcoin'}, 'tfuel_idr': {'high': '919', 'low': '791', 'vol_tfuel': '158914.06121791', 'vol_idr': '132465005', 'last': '791', 'buy': '792', 'sell': '799', 'server_time': 1667968274, 'name': 'TFUEL'}, 'theta_idr': {'high': '18368', 'low': '15800', 'vol_theta': '31154.31441486', 'vol_idr': '518825056', 'last': '16176', 'buy': '16198', 'sell': '16237', 'server_time': 1667968274, 'name': 'THETA'}, 'titan_idr': {'high': '1850', 'low': '1357', 'vol_titan': '1771764.93190879', 'vol_idr': '2788944246', 'last': '1360', 'buy': '1360', 'sell': '1361', 'server_time': 1667968274, 'name': 'TitanSwap'}, 'toko_idr': {'high': '86', 'low': '71', 'vol_toko': '8884260.50420895', 'vol_idr': '683768877', 'last': '73', 'buy': '73', 'sell': '74', 'server_time': 1667968274, 'name': 'Tokoin'}, 'trx_idr': {'high': '989', 'low': '912', 'vol_trx': '2605356.88641035', 'vol_idr': '2461569400', 'last': '920', 'buy': '925', 'sell': '927', 'server_time': 1667968274, 'name': 'Tron'}, 'uma_idr': {'high': '38739', 'low': '30084', 'vol_uma': '588.20406736', 'vol_idr': '19047071', 'last': '35000', 'buy': '30019', 'sell': '34999', 'server_time': 1667968274, 'name': 'Uma'}, 'uni_idr': {'high': '110000', 'low': '94000', 'vol_uni': '7247.52807392', 'vol_idr': '722606234', 'last': '96252', 'buy': '95748', 'sell': '96173', 'server_time': 1667968274, 'name': 'Uniswap'}, 'usdc_idr': {'high': '15900', 'low': '15666', 'vol_usdc': '137645.62855905', 'vol_idr': '2175218237', 'last': '15803', 'buy': '15813', 'sell': '15860', 'server_time': 1667968274, 'name': 'USD Coin'}, 'usdp_idr': {'high': '15301', 'low': '15301', 'vol_usdp': '0.68914159', 'vol_idr': '10544', 'last': '15301', 'buy': '15301', 'sell': '15899', 'server_time': 1667968274, 'name': 'Pax Dollar'}, 'usdt_idr': {'high': '15981', 'low': '15711', 'vol_usdt': '8299370.88736690', 'vol_idr': '130927870733', 'last': '15726', 'buy': '15726', 'sell': '15727', 'server_time': 1667968274, 'name': 'USDT'}, 'vcg_idr': {'high': '389', 'low': '350', 'vol_vcg': '223909.67904190', 'vol_idr': '82088024', 'last': '350', 'buy': '350', 'sell': '358', 'server_time': 1667968274, 'name': 'VCGamers'}, 'velo_idr': {'high': '38', 'low': '30', 'vol_velo': '17807756.02433368', 'vol_idr': '616856733', 'last': '31', 'buy': '31', 'sell': '32', 'server_time': 1667968274, 'name': 'VELO'}, 'vet_idr': {'high': '450', 'low': '348', 'vol_vet': '1054364.45145086', 'vol_idr': '440678558', 'last': '350', 'buy': '350', 'sell': '399', 'server_time': 1667968274, 'name': 'VeChain'}, 'vex_idr': {'high': '26', 'low': '22', 'vol_vex': '28807631.70878704', 'vol_idr': '686899994', 'last': '23', 'buy': '22', 'sell': '23', 'server_time': 1667968274, 'name': 'Vexanium'}, 'vidyx_idr': {'high': '14', 'low': '11', 'vol_vidyx': '35208450.88694301', 'vol_idr': '441471593', 'last': '11', 'buy': '11', 'sell': '12', 'server_time': 1667968274, 'name': 'VidyX'}, 'vra_idr': {'high': '66', 'low': '55', 'vol_vra': '36398163.53219111', 'vol_idr': '2159275804', 'last': '56', 'buy': '56', 'sell': '57', 'server_time': 1667968274, 'name': 'Verasity'}, 'vsys_idr': {'high': '22', 'low': '14', 'vol_vsys': '28125782.39647863', 'vol_idr': '532035870', 'last': '18', 'buy': '17', 'sell': '19', 'server_time': 1667968274, 'name': 'V Systems'}, 'waves_idr': {'high': '51900', 'low': '41600', 'vol_waves': '13871.14163934', 'vol_idr': '624440423', 'last': '42000', 'buy': '42000', 'sell': '42100', 'server_time': 1667968274, 'name': 'Waves'}, 'wbtc_idr': {'high': '321000011', 'low': '291200000', 'vol_wbtc': '0.08547614', 'vol_idr': '26094060', 'last': '292000000', 'buy': '291200000', 'sell': '300594122', 'server_time': 1667968274, 'name': 'Wrapped Bitcoin'}, 'wnxm_idr': {'high': '250006', 'low': '222501', 'vol_wnxm': '112.86863878', 'vol_idr': '27290015', 'last': '222501', 'buy': '222502', 'sell': '260600', 'server_time': 1667968274, 'name': 'Wrapped NXM'}, 'woo_idr': {'high': '2785', 'low': '2200', 'vol_woo': '4062.42916516', 'vol_idr': '9788665', 'last': '2698', 'buy': '2300', 'sell': '2696', 'server_time': 1667968274, 'name': 'WOO Network'}, 'wozx_idr': {'high': '1418', 'low': '1308', 'vol_wozx': '12860.57110932', 'vol_idr': '17719538', 'last': '1308', 'buy': '1300', 'sell': '1348', 'server_time': 1667968274, 'name': 'Efforce'}, 'xch_idr': {'high': '499948', 'low': '426001', 'vol_xch': '17.12322690', 'vol_idr': '8197038', 'last': '499945', 'buy': '426025', 'sell': '500000', 'server_time': 1667968274, 'name': 'Chia Network'}, 'xdc_idr': {'high': '480', 'low': '446', 'vol_xdc': '72517.69968805', 'vol_idr': '33664536', 'last': '473', 'buy': '472', 'sell': '473', 'server_time': 1667968274, 'name': 'XinFin Network'}, 'xem_idr': {'high': '597', 'low': '501', 'vol_xem': '203897.55341389', 'vol_idr': '110106351', 'last': '565', 'buy': '538', 'sell': '570', 'server_time': 1667968274, 'name': 'NEM'}, 'xlm_idr': {'high': '1695', 'low': '1530', 'vol_xlm': '834143.16600825', 'vol_idr': '1345487482', 'last': '1542', 'buy': '1539', 'sell': '1540', 'server_time': 1667968274, 'name': 'Stellar Lumens'}, 'wemix_idr': {'high': '27750', 'low': '24000', 'vol_wemix': '799.95716485', 'vol_idr': '20335019', 'last': '24023', 'buy': '24100', 'sell': '24697', 'server_time': 1667968274, 'name': 'WEMIX'}, 'xmr_idr': {'high': '2370000', 'low': '2113295', 'vol_xmr': '1206.16988787', 'vol_idr': '2748164330', 'last': '2159400', 'buy': '2149733', 'sell': '2150543', 'server_time': 1667968274, 'name': 'Monero'}, 'xrp_idr': {'high': '7182', 'low': '5800', 'vol_xrp': '1792239.10367668', 'vol_idr': '11955961287', 'last': '6199', 'buy': '6198', 'sell': '6199', 'server_time': 1667968274, 'name': 'Ripple'}, 'xrphedge_idr': {'high': '679586', 'low': '512000', 'vol_xrphedge': '232.43210009', 'vol_idr': '148023141', 'last': '512000', 'buy': '512000', 'sell': '624000', 'server_time': 1667968274, 'name': '1X Short XRP Token'}, 'xsgd_idr': {'high': '10475', 'low': '10475', 'vol_xsgd': '0.00000000', 'vol_idr': '0', 'last': '10475', 'buy': '10466', 'sell': '10899', 'server_time': 1667968274, 'name': 'XSGD'}, 'xtz_idr': {'high': '20486', 'low': '17900', 'vol_xtz': '8529.09176352', 'vol_idr': '163517153', 'last': '18155', 'buy': '18117', 'sell': '18254', 'server_time': 1667968274, 'name': 'Tezos'}, 'xvs_idr': {'high': '81950', 'low': '69000', 'vol_xvs': '105.93107813', 'vol_idr': '7594462', 'last': '78794', 'buy': '68101', 'sell': '78794', 'server_time': 1667968274, 'name': 'Venus'}, 'yfi_idr': {'high': '124393557', 'low': '102083808', 'vol_yfi': '3.13159281', 'vol_idr': '336263129', 'last': '102083808', 'buy': '101355506', 'sell': '101851245', 'server_time': 1667968274, 'name': 'yearn.finance'}, 'yfii_idr': {'high': '30000000', 'low': '20399917', 'vol_yfii': '66.22822896', 'vol_idr': '1734745870', 'last': '28700002', 'buy': '28700002', 'sell': '29000000', 'server_time': 1667968274, 'name': 'DFI.Money'}, 'zec_idr': {'high': '777336', 'low': '675842', 'vol_zec': '139.48864880', 'vol_idr': '100477001', 'last': '681723', 'buy': '680000', 'sell': '681723', 'server_time': 1667968274, 'name': 'Zcash'}, 'zil_idr': {'high': '495', 'low': '380', 'vol_zil': '8920936.86589355', 'vol_idr': '3950797617', 'last': '413', 'buy': '414', 'sell': '416', 'server_time': 1667968274, 'name': 'Zilliqa'}, 'zrx_idr': {'high': '3960', 'low': '3480', 'vol_zrx': '27368.95208887', 'vol_idr': '98049844', 'last': '3480', 'buy': '3500', 'sell': '3776', 'server_time': 1667968274, 'name': '0x'}, 'btc_usdt': {'high': '20606.642996', 'low': '17500', 'vol_btc': '3.77661762', 'vol_usdt': '71395.06561562', 'last': '18477.999994', 'buy': '18200.00003', 'sell': '18477.999987', 'server_time': 1667968274, 'name': 'Bitcoin'}, 'arv_usdt': {'high': '0.00013999', 'low': '0.000105', 'vol_arv': '14781808.79341827', 'vol_usdt': '1757.29274650', 'last': '0.00010602', 'buy': '0.000106', 'sell': '0.00010602', 'server_time': 1667968274, 'name': 'Ariva'}, 'bear_usdt': {'high': '0.000189', 'low': '0.000066', 'vol_bear': '17821607906.85431359', 'vol_usdt': '2697815.58068942', 'last': '0.0001', 'buy': '0.000099', 'sell': '0.0001', 'server_time': 1667968274, 'name': '3X Short Bitcoin Token'}, 'bull_usdt': {'high': '96', 'low': '58', 'vol_bull': '21390.41037237', 'vol_usdt': '1760202.83663199', 'last': '66.192', 'buy': '66.146', 'sell': '66.192', 'server_time': 1667968274, 'name': '3X Long Bitcoin Token'}, 'bnbbull_usdt': {'high': '42', 'low': '20', 'vol_bnbbull': '1539.33031166', 'vol_usdt': '46645.11974907', 'last': '27', 'buy': '24.5', 'sell': '27', 'server_time': 1667968274, 'name': '3X Long BNB Token'}, 'btt_usdt': {'high': '0.00000079', 'low': '0.0000007', 'vol_btt': '18673374371.00000000', 'vol_usdt': '14107.98153528', 'last': '0.00000071', 'buy': '0.00000071', 'sell': '0.00000072', 'server_time': 1667968274, 'name': 'BitTorrent'}, 'eth_usdt': {'high': '1550', 'low': '1300', 'vol_eth': '5.90729486', 'vol_usdt': '8162.95121553', 'last': '1499.9', 'buy': '1305.000003', 'sell': '1499.799997', 'server_time': 1667968274, 'name': 'Ethereum'}, 'ethbull_usdt': {'high': '6.2', 'low': '3.51', 'vol_ethbull': '110046.84061546', 'vol_usdt': '529871.54570719', 'last': '3.79999999', 'buy': '3.7999', 'sell': '3.79999999', 'server_time': 1667968274, 'name': '3X Long Ethereum Token'}, 'gard_usdt': {'high': '0.000027', 'low': '0.000022', 'vol_gard': '23144858.33707900', 'vol_usdt': '576.79378383', 'last': '0.000024', 'buy': '0.000023', 'sell': '0.000024', 'server_time': 1667968274, 'name': 'Hashgard'}, 'gict_usdt': {'high': '0.9747', 'low': '0.9747', 'vol_gict': '19.99406000', 'vol_usdt': '19.48821026', 'last': '0.9747', 'buy': '0.77', 'sell': '0.9746', 'server_time': 1667968274, 'name': 'GICTrade'}, 'kin_usdt': {'high': '0.0000115', 'low': '0.00001', 'vol_kin': '96507014.64606851', 'vol_usdt': '1036.80371641', 'last': '0.0000113', 'buy': '0.0000113', 'sell': '0.00001139', 'server_time': 1667968274, 'name': 'Kin'}, 'lunc_usdt': {'high': '0.000224', 'low': '0.000149', 'vol_lunc': '753911753.43668684', 'vol_usdt': '145050.04793323', 'last': '0.00018374', 'buy': '0.0001835', 'sell': '0.00018364', 'server_time': 1667968274, 'name': 'Terra Classic'}, 'pundix_usdt': {'high': '0.4976', 'low': '0.41', 'vol_pundix': '3006.13832049', 'vol_usdt': '1331.74799978', 'last': '0.428501', 'buy': '0.428501', 'sell': '0.469999', 'server_time': 1667968274, 'name': 'Pundi X'}, 'pxg_usdt': {'high': '0.00023', 'low': '0.00018', 'vol_pxg': '8042878.63200144', 'vol_usdt': '1671.50584004', 'last': '0.000182', 'buy': '0.000182', 'sell': '0.000207', 'server_time': 1667968274, 'name': 'PlayGame'}, 'shib_usdt': {'high': '0.0000114', 'low': '0.00001002', 'vol_shib': '24010389037.22395457', 'vol_usdt': '254682.03952693', 'last': '0.00001015', 'buy': '0.00001011', 'sell': '0.00001015', 'server_time': 1667968274, 'name': 'Shiba Inu'}, 'ssp_usdt': {'high': '0.000014', 'low': '0.000012', 'vol_ssp': '25373233.93338342', 'vol_usdt': '309.29430440', 'last': '0.000012', 'buy': '0.000012', 'sell': '0.000014', 'server_time': 1667968274, 'name': 'Smartshare'}, 'xec_usdt': {'high': '0.000037', 'low': '0.000032', 'vol_xec': '573637624.40084736', 'vol_usdt': '19965.74523750', 'last': '0.000033', 'buy': '0.000033', 'sell': '0.000034', 'server_time': 1667968274, 'name': 'eCash'}, 'vcg_usdt': {'high': '0.024', 'low': '0.023', 'vol_vcg': '1927.19759400', 'vol_usdt': '45.19958916', 'last': '0.023', 'buy': '0.018737', 'sell': '0.023985', 'server_time': 1667968274, 'name': 'VCGamers'}, 'vidy_usdt': {'high': '0.000108', 'low': '0.000082', 'vol_vidy': '27562887.67090600', 'vol_usdt': '2632.33958994', 'last': '0.000082', 'buy': '0.000082', 'sell': '0.000092', 'server_time': 1667968274, 'name': 'VidyCoin'}}, 'prices_24h': {'btcidr': '315606000', 'tenidr': '377', '1inchidr': '9416', 'aaveidr': '1302108', 'abbcidr': '2837', 'abyssidr': '251', 'actidr': '32', 'adaidr': '6111', 'adpidr': '129', 'aiozidr': '756', 'aliceidr': '26000', 'algoidr': '6139', 'alpacaidr': '4620', 'altidr': '4358', 'ampidr': '76', 'ankridr': '437', 'aoaidr': '4', 'apeidr': '68518', 'asixv2idr': '4', 'ataidr': '2419', 'atomidr': '210755', 'attidr': '47', 'audioidr': '3350', 'avaxidr': '273137', 'axsidr': '145738', 'bakeidr': '3797', 'balidr': '105100', 'batidr': '4859', 'bcdidr': '2500', 'bchidr': '1765000', 'beltidr': '5140', 'bnbidr': '5217000', 'bnbhedgeidr': '85925', 'bntidr': '7491', 'boraidr': '3257', 'botxidr': '190', 'bsvidr': '720000', 'btgidr': '270000', 'btridr': '410', 'btsidr': '164', 'busdidr': '15719', 'cakeidr': '74745', 'cbgidr': '52782', 'celidr': '14305', 'celoidr': '10847', 'chzidr': '3930', 'cindidr': '14', 'ckbidr': '52', 'coalidr': '37', 'compidr': '746585', 'cfxidr': '606', 'cotiidr': '1616', 'creidr': '58', 'croidr': '1851', 'crvidr': '14699', 'ctsiidr': '2204', 'cvcidr': '2013', 'cvxidr': '84997', 'dadidr': '484', 'daiidr': '15604', 'daoidr': '19700', 'dashidr': '683000', 'daxidr': '53', 'dentidr': '14', 'depidr': '85', 'dfgidr': '51999', 'dgbidr': '137', 'dgxidr': '611000', 'dntidr': '445', 'dogeidr': '1517', 'dotidr': '104163', 'dviidr': '455', 'dydxidr': '30048', 'efiidr': '1751', 'egldidr': '825000', 'elfidr': '2100', 'emidr': '17', 'enjidr': '6900', 'eosidr': '16900', 'etcidr': '370000', 'ergidr': '30020', 'ethidr': '23454000', 'ethhedgeidr': '249000', 'eursidr': '14950', 'everidr': '791', 'filidr': '84000', 'firoidr': '34200', 'ftmidr': '3909', 'fttidr': '292977', 'pgalaidr': '102', 'gictidr': '14538', 'glchidr': '791', 'glmidr': '4163', 'gmtidr': '8522', 'grtidr': '1320', 'gscidr': '19', 'gxcidr': '7306', 'hartidr': '38', 'hbaridr': '880', 'hedgidr': '2153', 'hedgeidr': '1962858', 'hibsidr': '10', 'hitopidr': '6', 'hiveidr': '7335', 'hnstidr': '128', 'hntidr': '60500', 'hotidr': '32', 'hpbidr': '207', 'idkidr': '1000', 'ignisidr': '76', 'imxidr': '8653', 'injidr': '38000', 'iostidr': '170', 'iotaidr': '4068', 'iotxidr': '527', 'jstidr': '427', 'kaiidr': '113', 'kavaidr': '21250', 'kdagidr': '2343', 'klayidr': '3249', 'kncidr': '13080', 'kokidr': '2649', 'krdidr': '6000', 'ksmidr': '535760', 'kunciidr': '557', 'letidr': '13', 'lgoldidr': '751004', 'linkidr': '130730', 'llandidr': '55030', 'loomidr': '804', 'lrcidr': '5000', 'lsilveridr': '9355', 'ltcidr': '1018000', 'lunaidr': '36251', 'lyfeidr': '165', 'manaidr': '10102', 'maticidr': '17613', 'mblidr': '49', 'mbxidr': '43012', 'mctidr': '16312', 'metaidr': '1912', 'mkridr': '13000000', 'mmetaidr': '712', 'nbtidr': '80', 'nearidr': '46302', 'neoidr': '135500', 'nexoidr': '16000', 'nrgidr': '2863', 'nxtidr': '55', 'oceanidr': '3350', 'octoidr': '29378', 'ognidr': '2273', 'okbidr': '346087', 'omgidr': '25000', 'onitidr': '585', 'ontidr': '3401', 'orbsidr': '502', 'orcidr': '1624', 'oxtidr': '1545', 'pandoidr': '58', 'paxgidr': '26446773', 'perpidr': '8717', 'polyidr': '4100', 'qntidr': '2365315', 'qtumidr': '45000', 'renidr': '1850', 'repidr': '105500', 'revidr': '11', 'rvnidr': '450', 'sandidr': '12450', 'sfiidr': '741205', 'shillidr': '368', 'signaidr': '38', 'slpidr': '52', 'snxidr': '39000', 'solidr': '427555', 'solveidr': '550', 'srmidr': '11000', 'storjidr': '7450', 'strmidr': '367', 'sumoidr': '203', 'sushiidr': '25593', 'sxpidr': '4901', 'tadidr': '30001', 'telidr': '34', 'tfuelidr': '895', 'thetaidr': '18000', 'titanidr': '1704', 'tokoidr': '74', 'trxidr': '966', 'umaidr': '34000', 'uniidr': '103390', 'usdcidr': '15705', 'usdpidr': '15900', 'usdtidr': '15676', 'vcgidr': '372', 'veloidr': '38', 'vetidr': '425', 'vexidr': '24', 'vidyxidr': '13', 'vraidr': '62', 'vsysidr': '19', 'wavesidr': '50300', 'wbtcidr': '321000011', 'wnxmidr': '255905', 'wooidr': '2600', 'wozxidr': '1427', 'xchidr': '488105', 'xdcidr': '465', 'xemidr': '588', 'xlmidr': '1656', 'wemixidr': '26000', 'xmridr': '2399998', 'xrpidr': '6748', 'xrphedgeidr': '623763', 'xsgdidr': '10475', 'xtzidr': '20466', 'xvsidr': '78024', 'yfiidr': '119191094', 'yfiiidr': '21589999', 'zecidr': '773085', 'zilidr': '472', 'zrxidr': '3946', 'btcusdt': '1988500000000', 'arvusdt': '12506', 'bearusdt': '17900', 'bullusdt': '9100000000', 'bnbbullusdt': '2710000000', 'bttusdt': '78', 'ethusdt': '150000000000', 'ethbullusdt': '585100000', 'gardusdt': '2700', 'gictusdt': '89759600', 'kinusdt': '1130', 'luncusdt': '21900', 'pundixusdt': '49770000', 'pxgusdt': '21500', 'shibusdt': '1100', 'sspusdt': '1300', 'xecusdt': '3600', 'vcgusdt': '2400000', 'vidyusdt': '10100', 'lptidr': '155000', 'nusaidr': '350000'}, 'prices_7d': {'btcidr': '320671000', 'tenidr': '355', '1inchidr': '9485', 'aaveidr': '1329304', 'abbcidr': '4245', 'abyssidr': '250', 'actidr': '30', 'adaidr': '6249', 'adpidr': '131', 'aiozidr': '769', 'aliceidr': '25884', 'algoidr': '5508', 'alpacaidr': '4481', 'altidr': '4023', 'ampidr': '75', 'ankridr': '459', 'aoaidr': '4', 'apeidr': '70031', 'asixv2idr': '4', 'ataidr': '2467', 'atomidr': '217531', 'attidr': '46', 'audioidr': '3160', 'avaxidr': '285914', 'axsidr': '142180', 'bakeidr': '3851', 'balidr': '105500', 'batidr': '4658', 'bcdidr': '2500', 'bchidr': '1797000', 'beltidr': '5310', 'bnbidr': '5100000', 'bnbhedgeidr': '91850', 'bntidr': '7299', 'boraidr': '3252', 'botxidr': '235', 'bsvidr': '747000', 'btgidr': '268000', 'btridr': '675', 'btsidr': '162', 'busdidr': '15654', 'cakeidr': '71310', 'cbgidr': '28020', 'celidr': '15176', 'celoidr': '11305', 'chzidr': '3534', 'cindidr': '13', 'ckbidr': '54', 'coalidr': '35', 'compidr': '756691', 'cfxidr': '639', 'cotiidr': '1586', 'creidr': '57', 'croidr': '1762', 'crvidr': '14123', 'ctsiidr': '2138', 'cvcidr': '1882', 'cvxidr': '82000', 'dadidr': '491', 'daiidr': '15620', 'daoidr': '19501', 'dashidr': '644000', 'daxidr': '46', 'dentidr': '13', 'depidr': '82', 'dfgidr': '39996', 'dgbidr': '141', 'dgxidr': '609900', 'dntidr': '434', 'dogeidr': '2289', 'dotidr': '100723', 'dviidr': '476', 'dydxidr': '25474', 'efiidr': '1765', 'egldidr': '937605', 'elfidr': '1970', 'emidr': '17', 'enjidr': '6893', 'eosidr': '17854', 'etcidr': '375000', 'ergidr': '29000', 'ethidr': '24900000', 'ethhedgeidr': '237444', 'eursidr': '14950', 'everidr': '851', 'filidr': '84307', 'firoidr': '34600', 'ftmidr': '3577', 'fttidr': '403660', 'pgalaidr': '630', 'gictidr': '14583', 'glchidr': '844', 'glmidr': '4444', 'gmtidr': '8500', 'grtidr': '1308', 'gscidr': '17', 'gxcidr': '8882', 'hartidr': '25', 'hbaridr': '919', 'hedgidr': '2064', 'hedgeidr': '1902053', 'hibsidr': '11', 'hitopidr': '7', 'hiveidr': '7576', 'hnstidr': '136', 'hntidr': '66000', 'hotidr': '32', 'hpbidr': '214', 'idkidr': '999', 'ignisidr': '76', 'imxidr': '8998', 'injidr': '36000', 'iostidr': '177', 'iotaidr': '4020', 'iotxidr': '440', 'jstidr': '453', 'kaiidr': '115', 'kavaidr': '22600', 'kdagidr': '2202', 'klayidr': '3955', 'kncidr': '14047', 'kokidr': '2915', 'krdidr': '5999', 'ksmidr': '520114', 'kunciidr': '427', 'letidr': '12', 'lgoldidr': '750298', 'linkidr': '122869', 'llandidr': '54540', 'loomidr': '741', 'lrcidr': '4214', 'lsilveridr': '11229', 'ltcidr': '865000', 'lunaidr': '37155', 'lyfeidr': '211', 'manaidr': '10139', 'maticidr': '13694', 'mblidr': '50', 'mbxidr': '48772', 'mctidr': '9781', 'metaidr': '466', 'mkridr': '13776753', 'mmetaidr': '552', 'nbtidr': '85', 'nearidr': '47050', 'neoidr': '139000', 'nexoidr': '15690', 'nrgidr': '3098', 'nxtidr': '51', 'oceanidr': '2697', 'octoidr': '24807', 'ognidr': '2365', 'okbidr': '250198', 'omgidr': '25400', 'onitidr': '568', 'ontidr': '3550', 'orbsidr': '491', 'orcidr': '1756', 'oxtidr': '1480', 'pandoidr': '59', 'paxgidr': '25558775', 'perpidr': '8750', 'polyidr': '4214', 'qntidr': '2520584', 'qtumidr': '44227', 'renidr': '1950', 'repidr': '109100', 'revidr': '13', 'rvnidr': '485', 'sandidr': '13318', 'sfiidr': '717000', 'shillidr': '388', 'signaidr': '39', 'slpidr': '51', 'snxidr': '39585', 'solidr': '505554', 'solveidr': '543', 'srmidr': '11700', 'storjidr': '6560', 'strmidr': '412', 'sumoidr': '212', 'sushiidr': '25252', 'sxpidr': '5100', 'tadidr': '27642', 'telidr': '25', 'tfuelidr': '990', 'thetaidr': '19415', 'titanidr': '1233', 'tokoidr': '72', 'trxidr': '978', 'umaidr': '35370', 'uniidr': '112484', 'usdcidr': '15613', 'usdpidr': '15089', 'usdtidr': '15650', 'vcgidr': '399', 'veloidr': '42', 'vetidr': '375', 'vexidr': '22', 'vidyxidr': '13', 'vraidr': '64', 'vsysidr': '19', 'wavesidr': '52400', 'wbtcidr': '312000000', 'wnxmidr': '279779', 'wooidr': '2890', 'wozxidr': '1511', 'xchidr': '481501', 'xdcidr': '472', 'xemidr': '610', 'xlmidr': '1715', 'wemixidr': '22000', 'xmridr': '2333808', 'xrpidr': '7191', 'xrphedgeidr': '647600', 'xsgdidr': '10461', 'xtzidr': '22146', 'xvsidr': '81550', 'yfiidr': '125645498', 'yfiiidr': '20188899', 'zecidr': '782772', 'zilidr': '476', 'zrxidr': '4017', 'btcusdt': '2054766791100', 'arvusdt': '12401', 'bearusdt': '16800', 'bullusdt': '10190000000', 'bnbbullusdt': '2700000000', 'bttusdt': '83', 'ethusdt': '158200000000', 'ethbullusdt': '719000000', 'gardusdt': '2700', 'gictusdt': '88061900', 'kinusdt': '1164', 'luncusdt': '22249', 'pundixusdt': '49100000', 'pxgusdt': '22000', 'shibusdt': '1290', 'sspusdt': '1400', 'xecusdt': '3800', 'vcgusdt': '2293900', 'vidyusdt': '9700', 'lptidr': None, 'nusaidr': None}}\n"
     ]
    }
   ],
   "source": [
    "#Web Scraping from Indodax Website\n",
    "\n",
    "#Import Library\n",
    "import urllib3\n",
    "from bs4 import BeautifulSoup\n",
    "import json\n",
    "import pandas as pd\n",
    "from pandas.io.json import json_normalize\n",
    "\n",
    "url = \"https://indodax.com/api/summaries\"\n",
    "http = urllib3.PoolManager()\n",
    "response = http.request('GET', url)\n",
    "soup = BeautifulSoup(response.data, \"html.parser\")\n",
    "\n",
    "json_data = json.loads(soup.decode('utf-8'))\n",
    "print(json_data)"
   ]
  },
  {
   "cell_type": "code",
   "execution_count": 2,
   "id": "896e5841",
   "metadata": {
    "scrolled": true
   },
   "outputs": [
    {
     "name": "stderr",
     "output_type": "stream",
     "text": [
      "<ipython-input-2-3551f4e0d23b>:1: FutureWarning: pandas.io.json.json_normalize is deprecated, use pandas.json_normalize instead\n",
      "  df = json_normalize(json_data)\n"
     ]
    }
   ],
   "source": [
    "df = json_normalize(json_data)"
   ]
  },
  {
   "cell_type": "code",
   "execution_count": 3,
   "id": "c9ad59af",
   "metadata": {},
   "outputs": [],
   "source": [
    "#export df to csv\n",
    "df.to_csv('my_csv.csv', index=False)"
   ]
  },
  {
   "cell_type": "code",
   "execution_count": 4,
   "id": "f5f8ba95",
   "metadata": {},
   "outputs": [],
   "source": [
    "#read csv\n",
    "a=pd.read_csv('my_csv.csv', delimiter=\",\")"
   ]
  },
  {
   "cell_type": "code",
   "execution_count": 5,
   "id": "37bb6d35",
   "metadata": {
    "scrolled": true
   },
   "outputs": [
    {
     "data": {
      "text/html": [
       "<div>\n",
       "<style scoped>\n",
       "    .dataframe tbody tr th:only-of-type {\n",
       "        vertical-align: middle;\n",
       "    }\n",
       "\n",
       "    .dataframe tbody tr th {\n",
       "        vertical-align: top;\n",
       "    }\n",
       "\n",
       "    .dataframe thead th {\n",
       "        text-align: right;\n",
       "    }\n",
       "</style>\n",
       "<table border=\"1\" class=\"dataframe\">\n",
       "  <thead>\n",
       "    <tr style=\"text-align: right;\">\n",
       "      <th></th>\n",
       "      <th>tickers.btc_idr.high</th>\n",
       "      <th>tickers.btc_idr.low</th>\n",
       "      <th>tickers.btc_idr.vol_btc</th>\n",
       "      <th>tickers.btc_idr.vol_idr</th>\n",
       "      <th>tickers.btc_idr.last</th>\n",
       "      <th>tickers.btc_idr.buy</th>\n",
       "      <th>tickers.btc_idr.sell</th>\n",
       "      <th>tickers.btc_idr.server_time</th>\n",
       "      <th>tickers.btc_idr.name</th>\n",
       "      <th>tickers.ten_idr.high</th>\n",
       "      <th>...</th>\n",
       "      <th>prices_7d.luncusdt</th>\n",
       "      <th>prices_7d.pundixusdt</th>\n",
       "      <th>prices_7d.pxgusdt</th>\n",
       "      <th>prices_7d.shibusdt</th>\n",
       "      <th>prices_7d.sspusdt</th>\n",
       "      <th>prices_7d.xecusdt</th>\n",
       "      <th>prices_7d.vcgusdt</th>\n",
       "      <th>prices_7d.vidyusdt</th>\n",
       "      <th>prices_7d.lptidr</th>\n",
       "      <th>prices_7d.nusaidr</th>\n",
       "    </tr>\n",
       "  </thead>\n",
       "  <tbody>\n",
       "    <tr>\n",
       "      <th>0</th>\n",
       "      <td>322500000</td>\n",
       "      <td>285369000</td>\n",
       "      <td>131.605949</td>\n",
       "      <td>39467084603</td>\n",
       "      <td>291591000</td>\n",
       "      <td>291403000</td>\n",
       "      <td>291591000</td>\n",
       "      <td>1667968274</td>\n",
       "      <td>Bitcoin</td>\n",
       "      <td>617</td>\n",
       "      <td>...</td>\n",
       "      <td>22249</td>\n",
       "      <td>49100000</td>\n",
       "      <td>22000</td>\n",
       "      <td>1290</td>\n",
       "      <td>1400</td>\n",
       "      <td>3800</td>\n",
       "      <td>2293900</td>\n",
       "      <td>9700</td>\n",
       "      <td>NaN</td>\n",
       "      <td>NaN</td>\n",
       "    </tr>\n",
       "  </tbody>\n",
       "</table>\n",
       "<p>1 rows × 2675 columns</p>\n",
       "</div>"
      ],
      "text/plain": [
       "   tickers.btc_idr.high  tickers.btc_idr.low  tickers.btc_idr.vol_btc  \\\n",
       "0             322500000            285369000               131.605949   \n",
       "\n",
       "   tickers.btc_idr.vol_idr  tickers.btc_idr.last  tickers.btc_idr.buy  \\\n",
       "0              39467084603             291591000            291403000   \n",
       "\n",
       "   tickers.btc_idr.sell  tickers.btc_idr.server_time tickers.btc_idr.name  \\\n",
       "0             291591000                   1667968274              Bitcoin   \n",
       "\n",
       "   tickers.ten_idr.high  ...  prices_7d.luncusdt  prices_7d.pundixusdt  \\\n",
       "0                   617  ...               22249              49100000   \n",
       "\n",
       "   prices_7d.pxgusdt  prices_7d.shibusdt  prices_7d.sspusdt  \\\n",
       "0              22000                1290               1400   \n",
       "\n",
       "   prices_7d.xecusdt  prices_7d.vcgusdt prices_7d.vidyusdt  prices_7d.lptidr  \\\n",
       "0               3800            2293900               9700               NaN   \n",
       "\n",
       "   prices_7d.nusaidr  \n",
       "0                NaN  \n",
       "\n",
       "[1 rows x 2675 columns]"
      ]
     },
     "execution_count": 5,
     "metadata": {},
     "output_type": "execute_result"
    }
   ],
   "source": [
    "#show top of data\n",
    "a.head(50)"
   ]
  },
  {
   "cell_type": "code",
   "execution_count": 6,
   "id": "15c28ed7",
   "metadata": {},
   "outputs": [],
   "source": [
    "#export a to xlsx\n",
    "a.to_excel (r'D:/Python/indodax2.xlsx', index = None, header=True)"
   ]
  },
  {
   "cell_type": "code",
   "execution_count": 7,
   "id": "d0cb89fa",
   "metadata": {
    "scrolled": true
   },
   "outputs": [
    {
     "name": "stdout",
     "output_type": "stream",
     "text": [
      "                                   0\n",
      "tickers.btc_idr.high       322500000\n",
      "tickers.btc_idr.low        285369000\n",
      "tickers.btc_idr.vol_btc   131.605949\n",
      "tickers.btc_idr.vol_idr  39467084603\n",
      "tickers.btc_idr.last       291591000\n",
      "...                              ...\n",
      "prices_7d.xecusdt               3800\n",
      "prices_7d.vcgusdt            2293900\n",
      "prices_7d.vidyusdt              9700\n",
      "prices_7d.lptidr                 NaN\n",
      "prices_7d.nusaidr                NaN\n",
      "\n",
      "[2675 rows x 1 columns]\n"
     ]
    }
   ],
   "source": [
    "#transpose into rows\n",
    "print(a.transpose())"
   ]
  },
  {
   "cell_type": "code",
   "execution_count": 8,
   "id": "ed70edd6",
   "metadata": {},
   "outputs": [],
   "source": [
    "b =a.T\n",
    "b.to_excel(r'D:/Python/indodaxtranspose.xlsx', header=True)"
   ]
  },
  {
   "cell_type": "code",
   "execution_count": 9,
   "id": "aee950c7",
   "metadata": {},
   "outputs": [],
   "source": [
    "fil = pd.ExcelFile(\"D:/Python/indodaxtranspose.xlsx\")\n",
    "\n",
    "filt = fil.parse(0)"
   ]
  },
  {
   "cell_type": "code",
   "execution_count": 10,
   "id": "488cb07b",
   "metadata": {
    "scrolled": true
   },
   "outputs": [
    {
     "name": "stdout",
     "output_type": "stream",
     "text": [
      "<class 'pandas.core.frame.DataFrame'>\n",
      "RangeIndex: 2675 entries, 0 to 2674\n",
      "Data columns (total 2 columns):\n",
      " #   Column      Non-Null Count  Dtype \n",
      "---  ------      --------------  ----- \n",
      " 0   Unnamed: 0  2675 non-null   object\n",
      " 1   0           2673 non-null   object\n",
      "dtypes: object(2)\n",
      "memory usage: 41.9+ KB\n"
     ]
    }
   ],
   "source": [
    "filt.info()"
   ]
  },
  {
   "cell_type": "code",
   "execution_count": 11,
   "id": "e003afc8",
   "metadata": {},
   "outputs": [
    {
     "data": {
      "text/html": [
       "<div>\n",
       "<style scoped>\n",
       "    .dataframe tbody tr th:only-of-type {\n",
       "        vertical-align: middle;\n",
       "    }\n",
       "\n",
       "    .dataframe tbody tr th {\n",
       "        vertical-align: top;\n",
       "    }\n",
       "\n",
       "    .dataframe thead th {\n",
       "        text-align: right;\n",
       "    }\n",
       "</style>\n",
       "<table border=\"1\" class=\"dataframe\">\n",
       "  <thead>\n",
       "    <tr style=\"text-align: right;\">\n",
       "      <th></th>\n",
       "      <th>Unnamed: 0</th>\n",
       "      <th>0</th>\n",
       "    </tr>\n",
       "  </thead>\n",
       "  <tbody>\n",
       "    <tr>\n",
       "      <th>0</th>\n",
       "      <td>tickers.btc_idr.high</td>\n",
       "      <td>322500000</td>\n",
       "    </tr>\n",
       "    <tr>\n",
       "      <th>1</th>\n",
       "      <td>tickers.btc_idr.low</td>\n",
       "      <td>285369000</td>\n",
       "    </tr>\n",
       "    <tr>\n",
       "      <th>2</th>\n",
       "      <td>tickers.btc_idr.vol_btc</td>\n",
       "      <td>131.605949</td>\n",
       "    </tr>\n",
       "    <tr>\n",
       "      <th>3</th>\n",
       "      <td>tickers.btc_idr.vol_idr</td>\n",
       "      <td>39467084603</td>\n",
       "    </tr>\n",
       "    <tr>\n",
       "      <th>4</th>\n",
       "      <td>tickers.btc_idr.last</td>\n",
       "      <td>291591000</td>\n",
       "    </tr>\n",
       "  </tbody>\n",
       "</table>\n",
       "</div>"
      ],
      "text/plain": [
       "                Unnamed: 0            0\n",
       "0     tickers.btc_idr.high    322500000\n",
       "1      tickers.btc_idr.low    285369000\n",
       "2  tickers.btc_idr.vol_btc   131.605949\n",
       "3  tickers.btc_idr.vol_idr  39467084603\n",
       "4     tickers.btc_idr.last    291591000"
      ]
     },
     "execution_count": 11,
     "metadata": {},
     "output_type": "execute_result"
    }
   ],
   "source": [
    "filt.head()"
   ]
  },
  {
   "cell_type": "code",
   "execution_count": 12,
   "id": "1ace5002",
   "metadata": {},
   "outputs": [],
   "source": [
    "filteri = filt[(filt[\"Unnamed: 0\"].str.contains(\"last\"))]"
   ]
  },
  {
   "cell_type": "code",
   "execution_count": 13,
   "id": "fca81383",
   "metadata": {},
   "outputs": [],
   "source": [
    "filteringg = filt[(filt[\"Unnamed: 0\"].str.contains(\"prices_24h\"))]"
   ]
  },
  {
   "cell_type": "code",
   "execution_count": 14,
   "id": "861605ef",
   "metadata": {},
   "outputs": [
    {
     "name": "stdout",
     "output_type": "stream",
     "text": [
      "               Unnamed: 0          0\n",
      "2187    prices_24h.btcidr  315606000\n",
      "2188    prices_24h.tenidr        377\n",
      "2189  prices_24h.1inchidr       9416\n",
      "2190   prices_24h.aaveidr    1302108\n",
      "2191   prices_24h.abbcidr       2837\n",
      "...                   ...        ...\n",
      "2426   prices_24h.xecusdt       3600\n",
      "2427   prices_24h.vcgusdt    2400000\n",
      "2428  prices_24h.vidyusdt      10100\n",
      "2429    prices_24h.lptidr     155000\n",
      "2430   prices_24h.nusaidr     350000\n",
      "\n",
      "[244 rows x 2 columns]\n"
     ]
    }
   ],
   "source": [
    "print(filteringg)"
   ]
  },
  {
   "cell_type": "code",
   "execution_count": 15,
   "id": "4e7dad97",
   "metadata": {},
   "outputs": [],
   "source": [
    "filteri.to_excel(r'D:/Python/indodx.xlsx', header= True)"
   ]
  },
  {
   "cell_type": "code",
   "execution_count": 16,
   "id": "7c576b67",
   "metadata": {},
   "outputs": [],
   "source": [
    "filteringg.to_excel(r'D:/Python/indodx2.xlsx', header= True)"
   ]
  },
  {
   "cell_type": "code",
   "execution_count": 17,
   "id": "89a7695c",
   "metadata": {},
   "outputs": [],
   "source": [
    "trans = pd.ExcelFile(\"D:/Python/indodx.xlsx\")\n",
    "\n",
    "transp = trans.parse(0)"
   ]
  },
  {
   "cell_type": "code",
   "execution_count": 18,
   "id": "494c629d",
   "metadata": {},
   "outputs": [
    {
     "name": "stdout",
     "output_type": "stream",
     "text": [
      "<class 'pandas.core.frame.DataFrame'>\n",
      "RangeIndex: 243 entries, 0 to 242\n",
      "Data columns (total 3 columns):\n",
      " #   Column        Non-Null Count  Dtype  \n",
      "---  ------        --------------  -----  \n",
      " 0   Unnamed: 0    243 non-null    int64  \n",
      " 1   Unnamed: 0.1  243 non-null    object \n",
      " 2   0             243 non-null    float64\n",
      "dtypes: float64(1), int64(1), object(1)\n",
      "memory usage: 5.8+ KB\n"
     ]
    }
   ],
   "source": [
    "transp.info()"
   ]
  },
  {
   "cell_type": "code",
   "execution_count": 19,
   "id": "c5bc82b2",
   "metadata": {},
   "outputs": [
    {
     "data": {
      "text/html": [
       "<div>\n",
       "<style scoped>\n",
       "    .dataframe tbody tr th:only-of-type {\n",
       "        vertical-align: middle;\n",
       "    }\n",
       "\n",
       "    .dataframe tbody tr th {\n",
       "        vertical-align: top;\n",
       "    }\n",
       "\n",
       "    .dataframe thead th {\n",
       "        text-align: right;\n",
       "    }\n",
       "</style>\n",
       "<table border=\"1\" class=\"dataframe\">\n",
       "  <thead>\n",
       "    <tr style=\"text-align: right;\">\n",
       "      <th></th>\n",
       "      <th>Unnamed: 0</th>\n",
       "      <th>Unnamed: 0.1</th>\n",
       "      <th>0</th>\n",
       "    </tr>\n",
       "  </thead>\n",
       "  <tbody>\n",
       "    <tr>\n",
       "      <th>238</th>\n",
       "      <td>2146</td>\n",
       "      <td>tickers.shib_usdt.last</td>\n",
       "      <td>0.000010</td>\n",
       "    </tr>\n",
       "    <tr>\n",
       "      <th>239</th>\n",
       "      <td>2155</td>\n",
       "      <td>tickers.ssp_usdt.last</td>\n",
       "      <td>0.000012</td>\n",
       "    </tr>\n",
       "    <tr>\n",
       "      <th>240</th>\n",
       "      <td>2164</td>\n",
       "      <td>tickers.xec_usdt.last</td>\n",
       "      <td>0.000033</td>\n",
       "    </tr>\n",
       "    <tr>\n",
       "      <th>241</th>\n",
       "      <td>2173</td>\n",
       "      <td>tickers.vcg_usdt.last</td>\n",
       "      <td>0.023000</td>\n",
       "    </tr>\n",
       "    <tr>\n",
       "      <th>242</th>\n",
       "      <td>2182</td>\n",
       "      <td>tickers.vidy_usdt.last</td>\n",
       "      <td>0.000082</td>\n",
       "    </tr>\n",
       "  </tbody>\n",
       "</table>\n",
       "</div>"
      ],
      "text/plain": [
       "     Unnamed: 0            Unnamed: 0.1         0\n",
       "238        2146  tickers.shib_usdt.last  0.000010\n",
       "239        2155   tickers.ssp_usdt.last  0.000012\n",
       "240        2164   tickers.xec_usdt.last  0.000033\n",
       "241        2173   tickers.vcg_usdt.last  0.023000\n",
       "242        2182  tickers.vidy_usdt.last  0.000082"
      ]
     },
     "execution_count": 19,
     "metadata": {},
     "output_type": "execute_result"
    }
   ],
   "source": [
    "transp.tail()"
   ]
  },
  {
   "cell_type": "code",
   "execution_count": 20,
   "id": "1ed5f9ee",
   "metadata": {},
   "outputs": [],
   "source": [
    "filtering = pd.ExcelFile(\"D:/Python/indodx22.xlsx\")\n",
    "\n",
    "transpos = filtering.parse(0)"
   ]
  },
  {
   "cell_type": "code",
   "execution_count": 21,
   "id": "46f33216",
   "metadata": {
    "scrolled": true
   },
   "outputs": [
    {
     "name": "stdout",
     "output_type": "stream",
     "text": [
      "<class 'pandas.core.frame.DataFrame'>\n",
      "RangeIndex: 243 entries, 0 to 242\n",
      "Data columns (total 3 columns):\n",
      " #   Column        Non-Null Count  Dtype \n",
      "---  ------        --------------  ----- \n",
      " 0   Unnamed: 0    243 non-null    int64 \n",
      " 1   Unnamed: 0.1  243 non-null    object\n",
      " 2   0             243 non-null    int64 \n",
      "dtypes: int64(2), object(1)\n",
      "memory usage: 5.8+ KB\n"
     ]
    }
   ],
   "source": [
    "transpos.info()"
   ]
  },
  {
   "cell_type": "code",
   "execution_count": 22,
   "id": "e8359765",
   "metadata": {},
   "outputs": [
    {
     "data": {
      "text/html": [
       "<div>\n",
       "<style scoped>\n",
       "    .dataframe tbody tr th:only-of-type {\n",
       "        vertical-align: middle;\n",
       "    }\n",
       "\n",
       "    .dataframe tbody tr th {\n",
       "        vertical-align: top;\n",
       "    }\n",
       "\n",
       "    .dataframe thead th {\n",
       "        text-align: right;\n",
       "    }\n",
       "</style>\n",
       "<table border=\"1\" class=\"dataframe\">\n",
       "  <thead>\n",
       "    <tr style=\"text-align: right;\">\n",
       "      <th></th>\n",
       "      <th>Unnamed: 0</th>\n",
       "      <th>Unnamed: 0.1</th>\n",
       "      <th>0</th>\n",
       "    </tr>\n",
       "  </thead>\n",
       "  <tbody>\n",
       "    <tr>\n",
       "      <th>0</th>\n",
       "      <td>2187</td>\n",
       "      <td>prices_24h.btcidr</td>\n",
       "      <td>322086000</td>\n",
       "    </tr>\n",
       "    <tr>\n",
       "      <th>1</th>\n",
       "      <td>2188</td>\n",
       "      <td>prices_24h.tenidr</td>\n",
       "      <td>377</td>\n",
       "    </tr>\n",
       "    <tr>\n",
       "      <th>2</th>\n",
       "      <td>2189</td>\n",
       "      <td>prices_24h.1inchidr</td>\n",
       "      <td>9700</td>\n",
       "    </tr>\n",
       "    <tr>\n",
       "      <th>3</th>\n",
       "      <td>2190</td>\n",
       "      <td>prices_24h.aaveidr</td>\n",
       "      <td>1338261</td>\n",
       "    </tr>\n",
       "    <tr>\n",
       "      <th>4</th>\n",
       "      <td>2191</td>\n",
       "      <td>prices_24h.abbcidr</td>\n",
       "      <td>2967</td>\n",
       "    </tr>\n",
       "  </tbody>\n",
       "</table>\n",
       "</div>"
      ],
      "text/plain": [
       "   Unnamed: 0         Unnamed: 0.1          0\n",
       "0        2187    prices_24h.btcidr  322086000\n",
       "1        2188    prices_24h.tenidr        377\n",
       "2        2189  prices_24h.1inchidr       9700\n",
       "3        2190   prices_24h.aaveidr    1338261\n",
       "4        2191   prices_24h.abbcidr       2967"
      ]
     },
     "execution_count": 22,
     "metadata": {},
     "output_type": "execute_result"
    }
   ],
   "source": [
    "transpos.head()"
   ]
  },
  {
   "cell_type": "code",
   "execution_count": 23,
   "id": "98c6f34a",
   "metadata": {},
   "outputs": [
    {
     "data": {
      "text/html": [
       "<div>\n",
       "<style scoped>\n",
       "    .dataframe tbody tr th:only-of-type {\n",
       "        vertical-align: middle;\n",
       "    }\n",
       "\n",
       "    .dataframe tbody tr th {\n",
       "        vertical-align: top;\n",
       "    }\n",
       "\n",
       "    .dataframe thead th {\n",
       "        text-align: right;\n",
       "    }\n",
       "</style>\n",
       "<table border=\"1\" class=\"dataframe\">\n",
       "  <thead>\n",
       "    <tr style=\"text-align: right;\">\n",
       "      <th></th>\n",
       "      <th>Unnamed: 0</th>\n",
       "      <th>Unnamed: 0.1</th>\n",
       "      <th>0</th>\n",
       "    </tr>\n",
       "  </thead>\n",
       "  <tbody>\n",
       "    <tr>\n",
       "      <th>0</th>\n",
       "      <td>4</td>\n",
       "      <td>tickers.btc_idr.last</td>\n",
       "      <td>291591000.0</td>\n",
       "    </tr>\n",
       "    <tr>\n",
       "      <th>1</th>\n",
       "      <td>13</td>\n",
       "      <td>tickers.ten_idr.last</td>\n",
       "      <td>367.0</td>\n",
       "    </tr>\n",
       "    <tr>\n",
       "      <th>2</th>\n",
       "      <td>22</td>\n",
       "      <td>tickers.1inch_idr.last</td>\n",
       "      <td>8812.0</td>\n",
       "    </tr>\n",
       "    <tr>\n",
       "      <th>3</th>\n",
       "      <td>31</td>\n",
       "      <td>tickers.aave_idr.last</td>\n",
       "      <td>1129275.0</td>\n",
       "    </tr>\n",
       "    <tr>\n",
       "      <th>4</th>\n",
       "      <td>40</td>\n",
       "      <td>tickers.abbc_idr.last</td>\n",
       "      <td>2818.0</td>\n",
       "    </tr>\n",
       "  </tbody>\n",
       "</table>\n",
       "</div>"
      ],
      "text/plain": [
       "   Unnamed: 0            Unnamed: 0.1            0\n",
       "0           4    tickers.btc_idr.last  291591000.0\n",
       "1          13    tickers.ten_idr.last        367.0\n",
       "2          22  tickers.1inch_idr.last       8812.0\n",
       "3          31   tickers.aave_idr.last    1129275.0\n",
       "4          40   tickers.abbc_idr.last       2818.0"
      ]
     },
     "execution_count": 23,
     "metadata": {},
     "output_type": "execute_result"
    }
   ],
   "source": [
    "transp.head()"
   ]
  },
  {
   "cell_type": "code",
   "execution_count": 24,
   "id": "923641a8",
   "metadata": {},
   "outputs": [],
   "source": [
    "baru = pd.concat([transp, transpos], axis=1)"
   ]
  },
  {
   "cell_type": "code",
   "execution_count": 26,
   "id": "2c018de3",
   "metadata": {},
   "outputs": [
    {
     "data": {
      "text/html": [
       "<div>\n",
       "<style scoped>\n",
       "    .dataframe tbody tr th:only-of-type {\n",
       "        vertical-align: middle;\n",
       "    }\n",
       "\n",
       "    .dataframe tbody tr th {\n",
       "        vertical-align: top;\n",
       "    }\n",
       "\n",
       "    .dataframe thead th {\n",
       "        text-align: right;\n",
       "    }\n",
       "</style>\n",
       "<table border=\"1\" class=\"dataframe\">\n",
       "  <thead>\n",
       "    <tr style=\"text-align: right;\">\n",
       "      <th></th>\n",
       "      <th>Unnamed: 0</th>\n",
       "      <th>Unnamed: 0.1</th>\n",
       "      <th>0</th>\n",
       "      <th>Unnamed: 0</th>\n",
       "      <th>Unnamed: 0.1</th>\n",
       "      <th>0</th>\n",
       "    </tr>\n",
       "  </thead>\n",
       "  <tbody>\n",
       "    <tr>\n",
       "      <th>0</th>\n",
       "      <td>4</td>\n",
       "      <td>tickers.btc_idr.last</td>\n",
       "      <td>291591000.0</td>\n",
       "      <td>2187</td>\n",
       "      <td>prices_24h.btcidr</td>\n",
       "      <td>322086000</td>\n",
       "    </tr>\n",
       "    <tr>\n",
       "      <th>1</th>\n",
       "      <td>13</td>\n",
       "      <td>tickers.ten_idr.last</td>\n",
       "      <td>367.0</td>\n",
       "      <td>2188</td>\n",
       "      <td>prices_24h.tenidr</td>\n",
       "      <td>377</td>\n",
       "    </tr>\n",
       "    <tr>\n",
       "      <th>2</th>\n",
       "      <td>22</td>\n",
       "      <td>tickers.1inch_idr.last</td>\n",
       "      <td>8812.0</td>\n",
       "      <td>2189</td>\n",
       "      <td>prices_24h.1inchidr</td>\n",
       "      <td>9700</td>\n",
       "    </tr>\n",
       "    <tr>\n",
       "      <th>3</th>\n",
       "      <td>31</td>\n",
       "      <td>tickers.aave_idr.last</td>\n",
       "      <td>1129275.0</td>\n",
       "      <td>2190</td>\n",
       "      <td>prices_24h.aaveidr</td>\n",
       "      <td>1338261</td>\n",
       "    </tr>\n",
       "    <tr>\n",
       "      <th>4</th>\n",
       "      <td>40</td>\n",
       "      <td>tickers.abbc_idr.last</td>\n",
       "      <td>2818.0</td>\n",
       "      <td>2191</td>\n",
       "      <td>prices_24h.abbcidr</td>\n",
       "      <td>2967</td>\n",
       "    </tr>\n",
       "    <tr>\n",
       "      <th>5</th>\n",
       "      <td>49</td>\n",
       "      <td>tickers.abyss_idr.last</td>\n",
       "      <td>230.0</td>\n",
       "      <td>2192</td>\n",
       "      <td>prices_24h.abyssidr</td>\n",
       "      <td>255</td>\n",
       "    </tr>\n",
       "    <tr>\n",
       "      <th>6</th>\n",
       "      <td>58</td>\n",
       "      <td>tickers.act_idr.last</td>\n",
       "      <td>29.0</td>\n",
       "      <td>2193</td>\n",
       "      <td>prices_24h.actidr</td>\n",
       "      <td>32</td>\n",
       "    </tr>\n",
       "    <tr>\n",
       "      <th>7</th>\n",
       "      <td>67</td>\n",
       "      <td>tickers.ada_idr.last</td>\n",
       "      <td>5789.0</td>\n",
       "      <td>2194</td>\n",
       "      <td>prices_24h.adaidr</td>\n",
       "      <td>6215</td>\n",
       "    </tr>\n",
       "    <tr>\n",
       "      <th>8</th>\n",
       "      <td>76</td>\n",
       "      <td>tickers.adp_idr.last</td>\n",
       "      <td>127.0</td>\n",
       "      <td>2195</td>\n",
       "      <td>prices_24h.adpidr</td>\n",
       "      <td>129</td>\n",
       "    </tr>\n",
       "    <tr>\n",
       "      <th>9</th>\n",
       "      <td>85</td>\n",
       "      <td>tickers.aioz_idr.last</td>\n",
       "      <td>685.0</td>\n",
       "      <td>2196</td>\n",
       "      <td>prices_24h.aiozidr</td>\n",
       "      <td>756</td>\n",
       "    </tr>\n",
       "    <tr>\n",
       "      <th>10</th>\n",
       "      <td>94</td>\n",
       "      <td>tickers.alice_idr.last</td>\n",
       "      <td>21839.0</td>\n",
       "      <td>2197</td>\n",
       "      <td>prices_24h.aliceidr</td>\n",
       "      <td>26585</td>\n",
       "    </tr>\n",
       "    <tr>\n",
       "      <th>11</th>\n",
       "      <td>103</td>\n",
       "      <td>tickers.algo_idr.last</td>\n",
       "      <td>5209.0</td>\n",
       "      <td>2198</td>\n",
       "      <td>prices_24h.algoidr</td>\n",
       "      <td>6141</td>\n",
       "    </tr>\n",
       "    <tr>\n",
       "      <th>12</th>\n",
       "      <td>112</td>\n",
       "      <td>tickers.alpaca_idr.last</td>\n",
       "      <td>4151.0</td>\n",
       "      <td>2199</td>\n",
       "      <td>prices_24h.alpacaidr</td>\n",
       "      <td>4654</td>\n",
       "    </tr>\n",
       "    <tr>\n",
       "      <th>13</th>\n",
       "      <td>121</td>\n",
       "      <td>tickers.alt_idr.last</td>\n",
       "      <td>3752.0</td>\n",
       "      <td>2200</td>\n",
       "      <td>prices_24h.altidr</td>\n",
       "      <td>4080</td>\n",
       "    </tr>\n",
       "    <tr>\n",
       "      <th>14</th>\n",
       "      <td>130</td>\n",
       "      <td>tickers.amp_idr.last</td>\n",
       "      <td>68.0</td>\n",
       "      <td>2201</td>\n",
       "      <td>prices_24h.ampidr</td>\n",
       "      <td>76</td>\n",
       "    </tr>\n",
       "  </tbody>\n",
       "</table>\n",
       "</div>"
      ],
      "text/plain": [
       "    Unnamed: 0             Unnamed: 0.1            0  Unnamed: 0  \\\n",
       "0            4     tickers.btc_idr.last  291591000.0        2187   \n",
       "1           13     tickers.ten_idr.last        367.0        2188   \n",
       "2           22   tickers.1inch_idr.last       8812.0        2189   \n",
       "3           31    tickers.aave_idr.last    1129275.0        2190   \n",
       "4           40    tickers.abbc_idr.last       2818.0        2191   \n",
       "5           49   tickers.abyss_idr.last        230.0        2192   \n",
       "6           58     tickers.act_idr.last         29.0        2193   \n",
       "7           67     tickers.ada_idr.last       5789.0        2194   \n",
       "8           76     tickers.adp_idr.last        127.0        2195   \n",
       "9           85    tickers.aioz_idr.last        685.0        2196   \n",
       "10          94   tickers.alice_idr.last      21839.0        2197   \n",
       "11         103    tickers.algo_idr.last       5209.0        2198   \n",
       "12         112  tickers.alpaca_idr.last       4151.0        2199   \n",
       "13         121     tickers.alt_idr.last       3752.0        2200   \n",
       "14         130     tickers.amp_idr.last         68.0        2201   \n",
       "\n",
       "            Unnamed: 0.1          0  \n",
       "0      prices_24h.btcidr  322086000  \n",
       "1      prices_24h.tenidr        377  \n",
       "2    prices_24h.1inchidr       9700  \n",
       "3     prices_24h.aaveidr    1338261  \n",
       "4     prices_24h.abbcidr       2967  \n",
       "5    prices_24h.abyssidr        255  \n",
       "6      prices_24h.actidr         32  \n",
       "7      prices_24h.adaidr       6215  \n",
       "8      prices_24h.adpidr        129  \n",
       "9     prices_24h.aiozidr        756  \n",
       "10   prices_24h.aliceidr      26585  \n",
       "11    prices_24h.algoidr       6141  \n",
       "12  prices_24h.alpacaidr       4654  \n",
       "13     prices_24h.altidr       4080  \n",
       "14     prices_24h.ampidr         76  "
      ]
     },
     "execution_count": 26,
     "metadata": {},
     "output_type": "execute_result"
    }
   ],
   "source": [
    "baru.head(15)"
   ]
  },
  {
   "cell_type": "code",
   "execution_count": null,
   "id": "a7f2cd47",
   "metadata": {},
   "outputs": [],
   "source": []
  },
  {
   "cell_type": "code",
   "execution_count": null,
   "id": "c5fc7981",
   "metadata": {},
   "outputs": [],
   "source": []
  },
  {
   "cell_type": "code",
   "execution_count": null,
   "id": "cb08cd25",
   "metadata": {},
   "outputs": [],
   "source": []
  },
  {
   "cell_type": "code",
   "execution_count": null,
   "id": "d5ae733e",
   "metadata": {},
   "outputs": [],
   "source": []
  }
 ],
 "metadata": {
  "kernelspec": {
   "display_name": "Python 3",
   "language": "python",
   "name": "python3"
  },
  "language_info": {
   "codemirror_mode": {
    "name": "ipython",
    "version": 3
   },
   "file_extension": ".py",
   "mimetype": "text/x-python",
   "name": "python",
   "nbconvert_exporter": "python",
   "pygments_lexer": "ipython3",
   "version": "3.8.8"
  }
 },
 "nbformat": 4,
 "nbformat_minor": 5
}
